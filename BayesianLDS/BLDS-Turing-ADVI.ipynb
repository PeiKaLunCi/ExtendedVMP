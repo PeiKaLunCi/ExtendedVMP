{
 "cells": [
  {
   "cell_type": "code",
   "execution_count": 1,
   "metadata": {},
   "outputs": [],
   "source": [
    "using Turing, Plots, LinearAlgebra, Distributions, AdvancedVI, DelimitedFiles, DataFrames"
   ]
  },
  {
   "cell_type": "code",
   "execution_count": 2,
   "metadata": {},
   "outputs": [],
   "source": [
    "#Generate data\n",
    "using Random\n",
    "import Distributions: pdf, MvNormal, rand\n",
    "\n",
    "Random.seed!(1) # Set random seed\n",
    "\n",
    "T = 40 # Number of timepoints\n",
    "\n",
    "# Generative parameters\n",
    "mu_0 = [8.0, 1.0] # Prior mean\n",
    "V_0 = diagm(0=>ones(2)) # Prior covariance; diageye ensures an identity matrix of Diagonal type\n",
    "F = [1.0 0.2; \n",
    "     -0.5 0.8] # Process matrix\n",
    "H = [1.0 0.0; \n",
    "     0.0 1.0] # Observation matrix\n",
    "Q = 1e-2*diagm(0=>ones(2)) # Process noise covariance\n",
    "R = 1e-1*diagm(0=>ones(2)) # Observation noise covariance\n",
    "\n",
    "# Data\n",
    "x_hat = Vector{Vector{Float64}}(undef, T)\n",
    "y_hat = Vector{Vector{Float64}}(undef, T)\n",
    "prior_x = MvNormal(mu_0, V_0)\n",
    "process_noise_dist = MvNormal(zeros(2), Q)\n",
    "obs_noise_dist = MvNormal(zeros(2), R)\n",
    "\n",
    "x_hat[1] = rand(prior_x)\n",
    "y_hat[1] = H*x_hat[1] + rand(obs_noise_dist)\n",
    "for t = 2:T\n",
    "    x_hat[t] = F*x_hat[t-1] + rand(process_noise_dist) # Execute process\n",
    "    y_hat[t] = H*x_hat[t] + rand(obs_noise_dist) # Draw observation\n",
    "end\n",
    ";"
   ]
  },
  {
   "cell_type": "code",
   "execution_count": 3,
   "metadata": {},
   "outputs": [
    {
     "data": {
      "text/plain": [
       "BLDS (generic function with 1 method)"
      ]
     },
     "execution_count": 3,
     "metadata": {},
     "output_type": "execute_result"
    }
   ],
   "source": [
    "@model function BLDS(y)\n",
    "    # Generative parameters\n",
    "    mu_0 = [8.0, 1.0] # Prior mean\n",
    "    V_0 = diagm(0=>ones(2)) # Prior covariance; diageye ensures an identity matrix of Diagonal type\n",
    "    F = [1.0 0.2; \n",
    "         -0.5 0.8] # Process matrix\n",
    "    H = [1.0 0.0; \n",
    "         0.0 1.0] # Observation matrix\n",
    "    Q = 1e-2*diagm(0=>ones(2)) # Process noise covariance\n",
    "    R = 1e-1*diagm(0=>ones(2)) # Observation noise covariance\n",
    "    T = 40 # Number of timepoints\n",
    "    \n",
    "    # Priors\n",
    "    a ~ MvNormal(zeros(4),diagm(0=>ones(4)))\n",
    "    x = Vector{Vector}(undef,T)\n",
    "    x[1] ~ MvNormal(mu_0, V_0)\n",
    "    \n",
    "    y[1] ~ MvNormal(H*x[1], R) # Observation model\n",
    "    \n",
    "    for t = 2:T\n",
    "        x[t] ~ MvNormal(reshape(a,(2,2))*x[t-1], Q) # Process model\n",
    "        y[t] ~ MvNormal(H*x[t], R) # Observation model\n",
    "    end\n",
    "end"
   ]
  },
  {
   "cell_type": "code",
   "execution_count": 4,
   "metadata": {},
   "outputs": [
    {
     "name": "stderr",
     "output_type": "stream",
     "text": [
      "┌ Info: [ADVI] Should only be seen once: optimizer created for θ\n",
      "│   objectid(θ) = 11341811741535977666\n",
      "└ @ AdvancedVI /home/polyten/.julia/packages/AdvancedVI/8ttTK/src/AdvancedVI.jl:199\n",
      "\u001b[32m[ADVI] Optimizing...100% Time: 0:00:07\u001b[39m\n",
      "┌ Info: [ADVI] Should only be seen once: optimizer created for θ\n",
      "│   objectid(θ) = 4100816472772002245\n",
      "└ @ AdvancedVI /home/polyten/.julia/packages/AdvancedVI/8ttTK/src/AdvancedVI.jl:199\n",
      "\u001b[32m[ADVI] Optimizing...100% Time: 0:00:04\u001b[39m\n",
      "┌ Info: [ADVI] Should only be seen once: optimizer created for θ\n",
      "│   objectid(θ) = 4948116323629466776\n",
      "└ @ AdvancedVI /home/polyten/.julia/packages/AdvancedVI/8ttTK/src/AdvancedVI.jl:199\n",
      "\u001b[32m[ADVI] Optimizing...100% Time: 0:00:04\u001b[39m\n",
      "┌ Info: [ADVI] Should only be seen once: optimizer created for θ\n",
      "│   objectid(θ) = 9190024823995930368\n",
      "└ @ AdvancedVI /home/polyten/.julia/packages/AdvancedVI/8ttTK/src/AdvancedVI.jl:199\n",
      "\u001b[32m[ADVI] Optimizing...100% Time: 0:00:04\u001b[39m\n",
      "┌ Info: [ADVI] Should only be seen once: optimizer created for θ\n",
      "│   objectid(θ) = 15075241242053004484\n",
      "└ @ AdvancedVI /home/polyten/.julia/packages/AdvancedVI/8ttTK/src/AdvancedVI.jl:199\n",
      "\u001b[32m[ADVI] Optimizing...100% Time: 0:00:04\u001b[39m\n",
      "┌ Info: [ADVI] Should only be seen once: optimizer created for θ\n",
      "│   objectid(θ) = 6526960937568599559\n",
      "└ @ AdvancedVI /home/polyten/.julia/packages/AdvancedVI/8ttTK/src/AdvancedVI.jl:199\n",
      "\u001b[32m[ADVI] Optimizing... 25%  ETA: 0:00:03\u001b[39m"
     ]
    },
    {
     "ename": "LoadError",
     "evalue": "InterruptException:",
     "output_type": "error",
     "traceback": [
      "InterruptException:",
      "",
      "Stacktrace:",
      " [1] cholesky!(::Hermitian{ForwardDiff.Dual{ForwardDiff.Tag{AdvancedVI.var\"#f#19\"{ELBO,ADVI{AdvancedVI.ForwardDiffAD{40}},Bijectors.TransformedDistribution{DistributionsAD.TuringDiagMvNormal{Array{Float64,1},Array{Float64,1}},Stacked{NTuple{41,Identity{1}},41},Multivariate},Turing.Variational.var\"#logπ#2\"{DynamicPPL.Model{var\"#1#2\",(:y,),(),(),Tuple{Array{Array{Float64,1},1}},Tuple{}},DynamicPPL.VarInfo{NamedTuple{(:a, :x),Tuple{DynamicPPL.Metadata{Dict{DynamicPPL.VarName{:a,Tuple{}},Int64},Array{MvNormal{Float64,PDMats.PDMat{Float64,Array{Float64,2}},Array{Float64,1}},1},Array{DynamicPPL.VarName{:a,Tuple{}},1},Array{Float64,1},Array{Set{DynamicPPL.Selector},1}},DynamicPPL.Metadata{Dict{DynamicPPL.VarName{:x,Tuple{Tuple{Int64}}},Int64},Array{MvNormal{Float64,PDMats.PDMat{Float64,Array{Float64,2}},Array{Float64,1}},1},Array{DynamicPPL.VarName{:x,Tuple{Tuple{Int64}}},1},Array{Float64,1},Array{Set{DynamicPPL.Selector},1}}}},Float64}},Tuple{Int64}},Float64},Float64,10},Array{ForwardDiff.Dual{ForwardDiff.Tag{AdvancedVI.var\"#f#19\"{ELBO,ADVI{AdvancedVI.ForwardDiffAD{40}},Bijectors.TransformedDistribution{DistributionsAD.TuringDiagMvNormal{Array{Float64,1},Array{Float64,1}},Stacked{NTuple{41,Identity{1}},41},Multivariate},Turing.Variational.var\"#logπ#2\"{DynamicPPL.Model{var\"#1#2\",(:y,),(),(),Tuple{Array{Array{Float64,1},1}},Tuple{}},DynamicPPL.VarInfo{NamedTuple{(:a, :x),Tuple{DynamicPPL.Metadata{Dict{DynamicPPL.VarName{:a,Tuple{}},Int64},Array{MvNormal{Float64,PDMats.PDMat{Float64,Array{Float64,2}},Array{Float64,1}},1},Array{DynamicPPL.VarName{:a,Tuple{}},1},Array{Float64,1},Array{Set{DynamicPPL.Selector},1}},DynamicPPL.Metadata{Dict{DynamicPPL.VarName{:x,Tuple{Tuple{Int64}}},Int64},Array{MvNormal{Float64,PDMats.PDMat{Float64,Array{Float64,2}},Array{Float64,1}},1},Array{DynamicPPL.VarName{:x,Tuple{Tuple{Int64}}},1},Array{Float64,1},Array{Set{DynamicPPL.Selector},1}}}},Float64}},Tuple{Int64}},Float64},Float64,10},2}}, ::Val{false}; check::Bool) at /buildworker/worker/package_linux64/build/usr/share/julia/stdlib/v1.5/LinearAlgebra/src/cholesky.jl:217",
      " [2] cholesky!(::Array{ForwardDiff.Dual{ForwardDiff.Tag{AdvancedVI.var\"#f#19\"{ELBO,ADVI{AdvancedVI.ForwardDiffAD{40}},Bijectors.TransformedDistribution{DistributionsAD.TuringDiagMvNormal{Array{Float64,1},Array{Float64,1}},Stacked{NTuple{41,Identity{1}},41},Multivariate},Turing.Variational.var\"#logπ#2\"{DynamicPPL.Model{var\"#1#2\",(:y,),(),(),Tuple{Array{Array{Float64,1},1}},Tuple{}},DynamicPPL.VarInfo{NamedTuple{(:a, :x),Tuple{DynamicPPL.Metadata{Dict{DynamicPPL.VarName{:a,Tuple{}},Int64},Array{MvNormal{Float64,PDMats.PDMat{Float64,Array{Float64,2}},Array{Float64,1}},1},Array{DynamicPPL.VarName{:a,Tuple{}},1},Array{Float64,1},Array{Set{DynamicPPL.Selector},1}},DynamicPPL.Metadata{Dict{DynamicPPL.VarName{:x,Tuple{Tuple{Int64}}},Int64},Array{MvNormal{Float64,PDMats.PDMat{Float64,Array{Float64,2}},Array{Float64,1}},1},Array{DynamicPPL.VarName{:x,Tuple{Tuple{Int64}}},1},Array{Float64,1},Array{Set{DynamicPPL.Selector},1}}}},Float64}},Tuple{Int64}},Float64},Float64,10},2}, ::Val{false}; check::Bool) at /buildworker/worker/package_linux64/build/usr/share/julia/stdlib/v1.5/LinearAlgebra/src/cholesky.jl:251",
      " [3] #cholesky#130 at /buildworker/worker/package_linux64/build/usr/share/julia/stdlib/v1.5/LinearAlgebra/src/cholesky.jl:344 [inlined]",
      " [4] cholesky at /buildworker/worker/package_linux64/build/usr/share/julia/stdlib/v1.5/LinearAlgebra/src/cholesky.jl:344 [inlined] (repeats 2 times)",
      " [5] PDMat at /home/polyten/.julia/packages/PDMats/G0Prn/src/pdmat.jl:19 [inlined]",
      " [6] convert at /home/polyten/.julia/packages/PDMats/G0Prn/src/pdmat.jl:24 [inlined]",
      " [7] convert at /home/polyten/.julia/packages/PDMats/G0Prn/src/pdmat.jl:25 [inlined]",
      " [8] MvNormal at /home/polyten/.julia/packages/Distributions/jFoHB/src/multivariate/mvnormal.jl:202 [inlined]",
      " [9] MvNormal(::Array{ForwardDiff.Dual{ForwardDiff.Tag{AdvancedVI.var\"#f#19\"{ELBO,ADVI{AdvancedVI.ForwardDiffAD{40}},Bijectors.TransformedDistribution{DistributionsAD.TuringDiagMvNormal{Array{Float64,1},Array{Float64,1}},Stacked{NTuple{41,Identity{1}},41},Multivariate},Turing.Variational.var\"#logπ#2\"{DynamicPPL.Model{var\"#1#2\",(:y,),(),(),Tuple{Array{Array{Float64,1},1}},Tuple{}},DynamicPPL.VarInfo{NamedTuple{(:a, :x),Tuple{DynamicPPL.Metadata{Dict{DynamicPPL.VarName{:a,Tuple{}},Int64},Array{MvNormal{Float64,PDMats.PDMat{Float64,Array{Float64,2}},Array{Float64,1}},1},Array{DynamicPPL.VarName{:a,Tuple{}},1},Array{Float64,1},Array{Set{DynamicPPL.Selector},1}},DynamicPPL.Metadata{Dict{DynamicPPL.VarName{:x,Tuple{Tuple{Int64}}},Int64},Array{MvNormal{Float64,PDMats.PDMat{Float64,Array{Float64,2}},Array{Float64,1}},1},Array{DynamicPPL.VarName{:x,Tuple{Tuple{Int64}}},1},Array{Float64,1},Array{Set{DynamicPPL.Selector},1}}}},Float64}},Tuple{Int64}},Float64},Float64,10},1}, ::Array{Float64,2}) at /home/polyten/.julia/packages/Distributions/jFoHB/src/multivariate/mvnormal.jl:211",
      " [10] #1 at ./In[3]:21 [inlined]",
      " [11] (::var\"#1#2\")(::Random._GLOBAL_RNG, ::DynamicPPL.Model{var\"#1#2\",(:y,),(),(),Tuple{Array{Array{Float64,1},1}},Tuple{}}, ::DynamicPPL.VarInfo{NamedTuple{(:a, :x),Tuple{DynamicPPL.Metadata{Dict{DynamicPPL.VarName{:a,Tuple{}},Int64},Array{MvNormal{Float64,PDMats.PDMat{Float64,Array{Float64,2}},Array{Float64,1}},1},Array{DynamicPPL.VarName{:a,Tuple{}},1},Array{ForwardDiff.Dual{ForwardDiff.Tag{AdvancedVI.var\"#f#19\"{ELBO,ADVI{AdvancedVI.ForwardDiffAD{40}},Bijectors.TransformedDistribution{DistributionsAD.TuringDiagMvNormal{Array{Float64,1},Array{Float64,1}},Stacked{NTuple{41,Identity{1}},41},Multivariate},Turing.Variational.var\"#logπ#2\"{DynamicPPL.Model{var\"#1#2\",(:y,),(),(),Tuple{Array{Array{Float64,1},1}},Tuple{}},DynamicPPL.VarInfo{NamedTuple{(:a, :x),Tuple{DynamicPPL.Metadata{Dict{DynamicPPL.VarName{:a,Tuple{}},Int64},Array{MvNormal{Float64,PDMats.PDMat{Float64,Array{Float64,2}},Array{Float64,1}},1},Array{DynamicPPL.VarName{:a,Tuple{}},1},Array{Float64,1},Array{Set{DynamicPPL.Selector},1}},DynamicPPL.Metadata{Dict{DynamicPPL.VarName{:x,Tuple{Tuple{Int64}}},Int64},Array{MvNormal{Float64,PDMats.PDMat{Float64,Array{Float64,2}},Array{Float64,1}},1},Array{DynamicPPL.VarName{:x,Tuple{Tuple{Int64}}},1},Array{Float64,1},Array{Set{DynamicPPL.Selector},1}}}},Float64}},Tuple{Int64}},Float64},Float64,10},1},Array{Set{DynamicPPL.Selector},1}},DynamicPPL.Metadata{Dict{DynamicPPL.VarName{:x,Tuple{Tuple{Int64}}},Int64},Array{MvNormal{Float64,PDMats.PDMat{Float64,Array{Float64,2}},Array{Float64,1}},1},Array{DynamicPPL.VarName{:x,Tuple{Tuple{Int64}}},1},Array{ForwardDiff.Dual{ForwardDiff.Tag{AdvancedVI.var\"#f#19\"{ELBO,ADVI{AdvancedVI.ForwardDiffAD{40}},Bijectors.TransformedDistribution{DistributionsAD.TuringDiagMvNormal{Array{Float64,1},Array{Float64,1}},Stacked{NTuple{41,Identity{1}},41},Multivariate},Turing.Variational.var\"#logπ#2\"{DynamicPPL.Model{var\"#1#2\",(:y,),(),(),Tuple{Array{Array{Float64,1},1}},Tuple{}},DynamicPPL.VarInfo{NamedTuple{(:a, :x),Tuple{DynamicPPL.Metadata{Dict{DynamicPPL.VarName{:a,Tuple{}},Int64},Array{MvNormal{Float64,PDMats.PDMat{Float64,Array{Float64,2}},Array{Float64,1}},1},Array{DynamicPPL.VarName{:a,Tuple{}},1},Array{Float64,1},Array{Set{DynamicPPL.Selector},1}},DynamicPPL.Metadata{Dict{DynamicPPL.VarName{:x,Tuple{Tuple{Int64}}},Int64},Array{MvNormal{Float64,PDMats.PDMat{Float64,Array{Float64,2}},Array{Float64,1}},1},Array{DynamicPPL.VarName{:x,Tuple{Tuple{Int64}}},1},Array{Float64,1},Array{Set{DynamicPPL.Selector},1}}}},Float64}},Tuple{Int64}},Float64},Float64,10},1},Array{Set{DynamicPPL.Selector},1}}}},ForwardDiff.Dual{ForwardDiff.Tag{AdvancedVI.var\"#f#19\"{ELBO,ADVI{AdvancedVI.ForwardDiffAD{40}},Bijectors.TransformedDistribution{DistributionsAD.TuringDiagMvNormal{Array{Float64,1},Array{Float64,1}},Stacked{NTuple{41,Identity{1}},41},Multivariate},Turing.Variational.var\"#logπ#2\"{DynamicPPL.Model{var\"#1#2\",(:y,),(),(),Tuple{Array{Array{Float64,1},1}},Tuple{}},DynamicPPL.VarInfo{NamedTuple{(:a, :x),Tuple{DynamicPPL.Metadata{Dict{DynamicPPL.VarName{:a,Tuple{}},Int64},Array{MvNormal{Float64,PDMats.PDMat{Float64,Array{Float64,2}},Array{Float64,1}},1},Array{DynamicPPL.VarName{:a,Tuple{}},1},Array{Float64,1},Array{Set{DynamicPPL.Selector},1}},DynamicPPL.Metadata{Dict{DynamicPPL.VarName{:x,Tuple{Tuple{Int64}}},Int64},Array{MvNormal{Float64,PDMats.PDMat{Float64,Array{Float64,2}},Array{Float64,1}},1},Array{DynamicPPL.VarName{:x,Tuple{Tuple{Int64}}},1},Array{Float64,1},Array{Set{DynamicPPL.Selector},1}}}},Float64}},Tuple{Int64}},Float64},Float64,10}}, ::DynamicPPL.SampleFromPrior, ::DynamicPPL.DefaultContext, ::Array{Array{Float64,1},1}) at ./none:0",
      " [12] macro expansion at /home/polyten/.julia/packages/DynamicPPL/wf0dU/src/model.jl:0 [inlined]",
      " [13] _evaluate at /home/polyten/.julia/packages/DynamicPPL/wf0dU/src/model.jl:154 [inlined]",
      " [14] evaluate_threadunsafe at /home/polyten/.julia/packages/DynamicPPL/wf0dU/src/model.jl:127 [inlined]",
      " [15] (::DynamicPPL.Model{var\"#1#2\",(:y,),(),(),Tuple{Array{Array{Float64,1},1}},Tuple{}})(::Random._GLOBAL_RNG, ::DynamicPPL.VarInfo{NamedTuple{(:a, :x),Tuple{DynamicPPL.Metadata{Dict{DynamicPPL.VarName{:a,Tuple{}},Int64},Array{MvNormal{Float64,PDMats.PDMat{Float64,Array{Float64,2}},Array{Float64,1}},1},Array{DynamicPPL.VarName{:a,Tuple{}},1},Array{ForwardDiff.Dual{ForwardDiff.Tag{AdvancedVI.var\"#f#19\"{ELBO,ADVI{AdvancedVI.ForwardDiffAD{40}},Bijectors.TransformedDistribution{DistributionsAD.TuringDiagMvNormal{Array{Float64,1},Array{Float64,1}},Stacked{NTuple{41,Identity{1}},41},Multivariate},Turing.Variational.var\"#logπ#2\"{DynamicPPL.Model{var\"#1#2\",(:y,),(),(),Tuple{Array{Array{Float64,1},1}},Tuple{}},DynamicPPL.VarInfo{NamedTuple{(:a, :x),Tuple{DynamicPPL.Metadata{Dict{DynamicPPL.VarName{:a,Tuple{}},Int64},Array{MvNormal{Float64,PDMats.PDMat{Float64,Array{Float64,2}},Array{Float64,1}},1},Array{DynamicPPL.VarName{:a,Tuple{}},1},Array{Float64,1},Array{Set{DynamicPPL.Selector},1}},DynamicPPL.Metadata{Dict{DynamicPPL.VarName{:x,Tuple{Tuple{Int64}}},Int64},Array{MvNormal{Float64,PDMats.PDMat{Float64,Array{Float64,2}},Array{Float64,1}},1},Array{DynamicPPL.VarName{:x,Tuple{Tuple{Int64}}},1},Array{Float64,1},Array{Set{DynamicPPL.Selector},1}}}},Float64}},Tuple{Int64}},Float64},Float64,10},1},Array{Set{DynamicPPL.Selector},1}},DynamicPPL.Metadata{Dict{DynamicPPL.VarName{:x,Tuple{Tuple{Int64}}},Int64},Array{MvNormal{Float64,PDMats.PDMat{Float64,Array{Float64,2}},Array{Float64,1}},1},Array{DynamicPPL.VarName{:x,Tuple{Tuple{Int64}}},1},Array{ForwardDiff.Dual{ForwardDiff.Tag{AdvancedVI.var\"#f#19\"{ELBO,ADVI{AdvancedVI.ForwardDiffAD{40}},Bijectors.TransformedDistribution{DistributionsAD.TuringDiagMvNormal{Array{Float64,1},Array{Float64,1}},Stacked{NTuple{41,Identity{1}},41},Multivariate},Turing.Variational.var\"#logπ#2\"{DynamicPPL.Model{var\"#1#2\",(:y,),(),(),Tuple{Array{Array{Float64,1},1}},Tuple{}},DynamicPPL.VarInfo{NamedTuple{(:a, :x),Tuple{DynamicPPL.Metadata{Dict{DynamicPPL.VarName{:a,Tuple{}},Int64},Array{MvNormal{Float64,PDMats.PDMat{Float64,Array{Float64,2}},Array{Float64,1}},1},Array{DynamicPPL.VarName{:a,Tuple{}},1},Array{Float64,1},Array{Set{DynamicPPL.Selector},1}},DynamicPPL.Metadata{Dict{DynamicPPL.VarName{:x,Tuple{Tuple{Int64}}},Int64},Array{MvNormal{Float64,PDMats.PDMat{Float64,Array{Float64,2}},Array{Float64,1}},1},Array{DynamicPPL.VarName{:x,Tuple{Tuple{Int64}}},1},Array{Float64,1},Array{Set{DynamicPPL.Selector},1}}}},Float64}},Tuple{Int64}},Float64},Float64,10},1},Array{Set{DynamicPPL.Selector},1}}}},ForwardDiff.Dual{ForwardDiff.Tag{AdvancedVI.var\"#f#19\"{ELBO,ADVI{AdvancedVI.ForwardDiffAD{40}},Bijectors.TransformedDistribution{DistributionsAD.TuringDiagMvNormal{Array{Float64,1},Array{Float64,1}},Stacked{NTuple{41,Identity{1}},41},Multivariate},Turing.Variational.var\"#logπ#2\"{DynamicPPL.Model{var\"#1#2\",(:y,),(),(),Tuple{Array{Array{Float64,1},1}},Tuple{}},DynamicPPL.VarInfo{NamedTuple{(:a, :x),Tuple{DynamicPPL.Metadata{Dict{DynamicPPL.VarName{:a,Tuple{}},Int64},Array{MvNormal{Float64,PDMats.PDMat{Float64,Array{Float64,2}},Array{Float64,1}},1},Array{DynamicPPL.VarName{:a,Tuple{}},1},Array{Float64,1},Array{Set{DynamicPPL.Selector},1}},DynamicPPL.Metadata{Dict{DynamicPPL.VarName{:x,Tuple{Tuple{Int64}}},Int64},Array{MvNormal{Float64,PDMats.PDMat{Float64,Array{Float64,2}},Array{Float64,1}},1},Array{DynamicPPL.VarName{:x,Tuple{Tuple{Int64}}},1},Array{Float64,1},Array{Set{DynamicPPL.Selector},1}}}},Float64}},Tuple{Int64}},Float64},Float64,10}}, ::DynamicPPL.SampleFromPrior, ::DynamicPPL.DefaultContext) at /home/polyten/.julia/packages/DynamicPPL/wf0dU/src/model.jl:92",
      " [16] Model at /home/polyten/.julia/packages/DynamicPPL/wf0dU/src/model.jl:91 [inlined]",
      " [17] Model at /home/polyten/.julia/packages/DynamicPPL/wf0dU/src/model.jl:98 [inlined]",
      " [18] logπ at /home/polyten/.julia/packages/Turing/a9ANC/src/variational/VariationalInference.jl:40 [inlined]",
      " [19] (::ELBO)(::Random._GLOBAL_RNG, ::ADVI{AdvancedVI.ForwardDiffAD{40}}, ::Bijectors.TransformedDistribution{DistributionsAD.TuringDiagMvNormal{Array{ForwardDiff.Dual{ForwardDiff.Tag{AdvancedVI.var\"#f#19\"{ELBO,ADVI{AdvancedVI.ForwardDiffAD{40}},Bijectors.TransformedDistribution{DistributionsAD.TuringDiagMvNormal{Array{Float64,1},Array{Float64,1}},Stacked{NTuple{41,Identity{1}},41},Multivariate},Turing.Variational.var\"#logπ#2\"{DynamicPPL.Model{var\"#1#2\",(:y,),(),(),Tuple{Array{Array{Float64,1},1}},Tuple{}},DynamicPPL.VarInfo{NamedTuple{(:a, :x),Tuple{DynamicPPL.Metadata{Dict{DynamicPPL.VarName{:a,Tuple{}},Int64},Array{MvNormal{Float64,PDMats.PDMat{Float64,Array{Float64,2}},Array{Float64,1}},1},Array{DynamicPPL.VarName{:a,Tuple{}},1},Array{Float64,1},Array{Set{DynamicPPL.Selector},1}},DynamicPPL.Metadata{Dict{DynamicPPL.VarName{:x,Tuple{Tuple{Int64}}},Int64},Array{MvNormal{Float64,PDMats.PDMat{Float64,Array{Float64,2}},Array{Float64,1}},1},Array{DynamicPPL.VarName{:x,Tuple{Tuple{Int64}}},1},Array{Float64,1},Array{Set{DynamicPPL.Selector},1}}}},Float64}},Tuple{Int64}},Float64},Float64,10},1},Array{ForwardDiff.Dual{ForwardDiff.Tag{AdvancedVI.var\"#f#19\"{ELBO,ADVI{AdvancedVI.ForwardDiffAD{40}},Bijectors.TransformedDistribution{DistributionsAD.TuringDiagMvNormal{Array{Float64,1},Array{Float64,1}},Stacked{NTuple{41,Identity{1}},41},Multivariate},Turing.Variational.var\"#logπ#2\"{DynamicPPL.Model{var\"#1#2\",(:y,),(),(),Tuple{Array{Array{Float64,1},1}},Tuple{}},DynamicPPL.VarInfo{NamedTuple{(:a, :x),Tuple{DynamicPPL.Metadata{Dict{DynamicPPL.VarName{:a,Tuple{}},Int64},Array{MvNormal{Float64,PDMats.PDMat{Float64,Array{Float64,2}},Array{Float64,1}},1},Array{DynamicPPL.VarName{:a,Tuple{}},1},Array{Float64,1},Array{Set{DynamicPPL.Selector},1}},DynamicPPL.Metadata{Dict{DynamicPPL.VarName{:x,Tuple{Tuple{Int64}}},Int64},Array{MvNormal{Float64,PDMats.PDMat{Float64,Array{Float64,2}},Array{Float64,1}},1},Array{DynamicPPL.VarName{:x,Tuple{Tuple{Int64}}},1},Array{Float64,1},Array{Set{DynamicPPL.Selector},1}}}},Float64}},Tuple{Int64}},Float64},Float64,10},1}},Stacked{NTuple{41,Identity{1}},41},Multivariate}, ::Turing.Variational.var\"#logπ#2\"{DynamicPPL.Model{var\"#1#2\",(:y,),(),(),Tuple{Array{Array{Float64,1},1}},Tuple{}},DynamicPPL.VarInfo{NamedTuple{(:a, :x),Tuple{DynamicPPL.Metadata{Dict{DynamicPPL.VarName{:a,Tuple{}},Int64},Array{MvNormal{Float64,PDMats.PDMat{Float64,Array{Float64,2}},Array{Float64,1}},1},Array{DynamicPPL.VarName{:a,Tuple{}},1},Array{Float64,1},Array{Set{DynamicPPL.Selector},1}},DynamicPPL.Metadata{Dict{DynamicPPL.VarName{:x,Tuple{Tuple{Int64}}},Int64},Array{MvNormal{Float64,PDMats.PDMat{Float64,Array{Float64,2}},Array{Float64,1}},1},Array{DynamicPPL.VarName{:x,Tuple{Tuple{Int64}}},1},Array{Float64,1},Array{Set{DynamicPPL.Selector},1}}}},Float64}}, ::Int64) at /home/polyten/.julia/packages/AdvancedVI/8ttTK/src/advi.jl:96",
      " [20] #_#21 at /home/polyten/.julia/packages/AdvancedVI/8ttTK/src/objectives.jl:6 [inlined]",
      " [21] ELBO at /home/polyten/.julia/packages/AdvancedVI/8ttTK/src/objectives.jl:6 [inlined]",
      " [22] f at /home/polyten/.julia/packages/AdvancedVI/8ttTK/src/AdvancedVI.jl:140 [inlined]",
      " [23] chunk_mode_gradient!(::DiffResults.MutableDiffResult{1,Float64,Tuple{Array{Float64,1}}}, ::AdvancedVI.var\"#f#19\"{ELBO,ADVI{AdvancedVI.ForwardDiffAD{40}},Bijectors.TransformedDistribution{DistributionsAD.TuringDiagMvNormal{Array{Float64,1},Array{Float64,1}},Stacked{NTuple{41,Identity{1}},41},Multivariate},Turing.Variational.var\"#logπ#2\"{DynamicPPL.Model{var\"#1#2\",(:y,),(),(),Tuple{Array{Array{Float64,1},1}},Tuple{}},DynamicPPL.VarInfo{NamedTuple{(:a, :x),Tuple{DynamicPPL.Metadata{Dict{DynamicPPL.VarName{:a,Tuple{}},Int64},Array{MvNormal{Float64,PDMats.PDMat{Float64,Array{Float64,2}},Array{Float64,1}},1},Array{DynamicPPL.VarName{:a,Tuple{}},1},Array{Float64,1},Array{Set{DynamicPPL.Selector},1}},DynamicPPL.Metadata{Dict{DynamicPPL.VarName{:x,Tuple{Tuple{Int64}}},Int64},Array{MvNormal{Float64,PDMats.PDMat{Float64,Array{Float64,2}},Array{Float64,1}},1},Array{DynamicPPL.VarName{:x,Tuple{Tuple{Int64}}},1},Array{Float64,1},Array{Set{DynamicPPL.Selector},1}}}},Float64}},Tuple{Int64}}, ::Array{Float64,1}, ::ForwardDiff.GradientConfig{ForwardDiff.Tag{AdvancedVI.var\"#f#19\"{ELBO,ADVI{AdvancedVI.ForwardDiffAD{40}},Bijectors.TransformedDistribution{DistributionsAD.TuringDiagMvNormal{Array{Float64,1},Array{Float64,1}},Stacked{NTuple{41,Identity{1}},41},Multivariate},Turing.Variational.var\"#logπ#2\"{DynamicPPL.Model{var\"#1#2\",(:y,),(),(),Tuple{Array{Array{Float64,1},1}},Tuple{}},DynamicPPL.VarInfo{NamedTuple{(:a, :x),Tuple{DynamicPPL.Metadata{Dict{DynamicPPL.VarName{:a,Tuple{}},Int64},Array{MvNormal{Float64,PDMats.PDMat{Float64,Array{Float64,2}},Array{Float64,1}},1},Array{DynamicPPL.VarName{:a,Tuple{}},1},Array{Float64,1},Array{Set{DynamicPPL.Selector},1}},DynamicPPL.Metadata{Dict{DynamicPPL.VarName{:x,Tuple{Tuple{Int64}}},Int64},Array{MvNormal{Float64,PDMats.PDMat{Float64,Array{Float64,2}},Array{Float64,1}},1},Array{DynamicPPL.VarName{:x,Tuple{Tuple{Int64}}},1},Array{Float64,1},Array{Set{DynamicPPL.Selector},1}}}},Float64}},Tuple{Int64}},Float64},Float64,10,Array{ForwardDiff.Dual{ForwardDiff.Tag{AdvancedVI.var\"#f#19\"{ELBO,ADVI{AdvancedVI.ForwardDiffAD{40}},Bijectors.TransformedDistribution{DistributionsAD.TuringDiagMvNormal{Array{Float64,1},Array{Float64,1}},Stacked{NTuple{41,Identity{1}},41},Multivariate},Turing.Variational.var\"#logπ#2\"{DynamicPPL.Model{var\"#1#2\",(:y,),(),(),Tuple{Array{Array{Float64,1},1}},Tuple{}},DynamicPPL.VarInfo{NamedTuple{(:a, :x),Tuple{DynamicPPL.Metadata{Dict{DynamicPPL.VarName{:a,Tuple{}},Int64},Array{MvNormal{Float64,PDMats.PDMat{Float64,Array{Float64,2}},Array{Float64,1}},1},Array{DynamicPPL.VarName{:a,Tuple{}},1},Array{Float64,1},Array{Set{DynamicPPL.Selector},1}},DynamicPPL.Metadata{Dict{DynamicPPL.VarName{:x,Tuple{Tuple{Int64}}},Int64},Array{MvNormal{Float64,PDMats.PDMat{Float64,Array{Float64,2}},Array{Float64,1}},1},Array{DynamicPPL.VarName{:x,Tuple{Tuple{Int64}}},1},Array{Float64,1},Array{Set{DynamicPPL.Selector},1}}}},Float64}},Tuple{Int64}},Float64},Float64,10},1}}) at /home/polyten/.julia/packages/ForwardDiff/m7cm5/src/gradient.jl:159",
      " [24] gradient!(::DiffResults.MutableDiffResult{1,Float64,Tuple{Array{Float64,1}}}, ::AdvancedVI.var\"#f#19\"{ELBO,ADVI{AdvancedVI.ForwardDiffAD{40}},Bijectors.TransformedDistribution{DistributionsAD.TuringDiagMvNormal{Array{Float64,1},Array{Float64,1}},Stacked{NTuple{41,Identity{1}},41},Multivariate},Turing.Variational.var\"#logπ#2\"{DynamicPPL.Model{var\"#1#2\",(:y,),(),(),Tuple{Array{Array{Float64,1},1}},Tuple{}},DynamicPPL.VarInfo{NamedTuple{(:a, :x),Tuple{DynamicPPL.Metadata{Dict{DynamicPPL.VarName{:a,Tuple{}},Int64},Array{MvNormal{Float64,PDMats.PDMat{Float64,Array{Float64,2}},Array{Float64,1}},1},Array{DynamicPPL.VarName{:a,Tuple{}},1},Array{Float64,1},Array{Set{DynamicPPL.Selector},1}},DynamicPPL.Metadata{Dict{DynamicPPL.VarName{:x,Tuple{Tuple{Int64}}},Int64},Array{MvNormal{Float64,PDMats.PDMat{Float64,Array{Float64,2}},Array{Float64,1}},1},Array{DynamicPPL.VarName{:x,Tuple{Tuple{Int64}}},1},Array{Float64,1},Array{Set{DynamicPPL.Selector},1}}}},Float64}},Tuple{Int64}}, ::Array{Float64,1}, ::ForwardDiff.GradientConfig{ForwardDiff.Tag{AdvancedVI.var\"#f#19\"{ELBO,ADVI{AdvancedVI.ForwardDiffAD{40}},Bijectors.TransformedDistribution{DistributionsAD.TuringDiagMvNormal{Array{Float64,1},Array{Float64,1}},Stacked{NTuple{41,Identity{1}},41},Multivariate},Turing.Variational.var\"#logπ#2\"{DynamicPPL.Model{var\"#1#2\",(:y,),(),(),Tuple{Array{Array{Float64,1},1}},Tuple{}},DynamicPPL.VarInfo{NamedTuple{(:a, :x),Tuple{DynamicPPL.Metadata{Dict{DynamicPPL.VarName{:a,Tuple{}},Int64},Array{MvNormal{Float64,PDMats.PDMat{Float64,Array{Float64,2}},Array{Float64,1}},1},Array{DynamicPPL.VarName{:a,Tuple{}},1},Array{Float64,1},Array{Set{DynamicPPL.Selector},1}},DynamicPPL.Metadata{Dict{DynamicPPL.VarName{:x,Tuple{Tuple{Int64}}},Int64},Array{MvNormal{Float64,PDMats.PDMat{Float64,Array{Float64,2}},Array{Float64,1}},1},Array{DynamicPPL.VarName{:x,Tuple{Tuple{Int64}}},1},Array{Float64,1},Array{Set{DynamicPPL.Selector},1}}}},Float64}},Tuple{Int64}},Float64},Float64,10,Array{ForwardDiff.Dual{ForwardDiff.Tag{AdvancedVI.var\"#f#19\"{ELBO,ADVI{AdvancedVI.ForwardDiffAD{40}},Bijectors.TransformedDistribution{DistributionsAD.TuringDiagMvNormal{Array{Float64,1},Array{Float64,1}},Stacked{NTuple{41,Identity{1}},41},Multivariate},Turing.Variational.var\"#logπ#2\"{DynamicPPL.Model{var\"#1#2\",(:y,),(),(),Tuple{Array{Array{Float64,1},1}},Tuple{}},DynamicPPL.VarInfo{NamedTuple{(:a, :x),Tuple{DynamicPPL.Metadata{Dict{DynamicPPL.VarName{:a,Tuple{}},Int64},Array{MvNormal{Float64,PDMats.PDMat{Float64,Array{Float64,2}},Array{Float64,1}},1},Array{DynamicPPL.VarName{:a,Tuple{}},1},Array{Float64,1},Array{Set{DynamicPPL.Selector},1}},DynamicPPL.Metadata{Dict{DynamicPPL.VarName{:x,Tuple{Tuple{Int64}}},Int64},Array{MvNormal{Float64,PDMats.PDMat{Float64,Array{Float64,2}},Array{Float64,1}},1},Array{DynamicPPL.VarName{:x,Tuple{Tuple{Int64}}},1},Array{Float64,1},Array{Set{DynamicPPL.Selector},1}}}},Float64}},Tuple{Int64}},Float64},Float64,10},1}}, ::Val{true}) at /home/polyten/.julia/packages/ForwardDiff/m7cm5/src/gradient.jl:39",
      " [25] gradient!(::DiffResults.MutableDiffResult{1,Float64,Tuple{Array{Float64,1}}}, ::AdvancedVI.var\"#f#19\"{ELBO,ADVI{AdvancedVI.ForwardDiffAD{40}},Bijectors.TransformedDistribution{DistributionsAD.TuringDiagMvNormal{Array{Float64,1},Array{Float64,1}},Stacked{NTuple{41,Identity{1}},41},Multivariate},Turing.Variational.var\"#logπ#2\"{DynamicPPL.Model{var\"#1#2\",(:y,),(),(),Tuple{Array{Array{Float64,1},1}},Tuple{}},DynamicPPL.VarInfo{NamedTuple{(:a, :x),Tuple{DynamicPPL.Metadata{Dict{DynamicPPL.VarName{:a,Tuple{}},Int64},Array{MvNormal{Float64,PDMats.PDMat{Float64,Array{Float64,2}},Array{Float64,1}},1},Array{DynamicPPL.VarName{:a,Tuple{}},1},Array{Float64,1},Array{Set{DynamicPPL.Selector},1}},DynamicPPL.Metadata{Dict{DynamicPPL.VarName{:x,Tuple{Tuple{Int64}}},Int64},Array{MvNormal{Float64,PDMats.PDMat{Float64,Array{Float64,2}},Array{Float64,1}},1},Array{DynamicPPL.VarName{:x,Tuple{Tuple{Int64}}},1},Array{Float64,1},Array{Set{DynamicPPL.Selector},1}}}},Float64}},Tuple{Int64}}, ::Array{Float64,1}, ::ForwardDiff.GradientConfig{ForwardDiff.Tag{AdvancedVI.var\"#f#19\"{ELBO,ADVI{AdvancedVI.ForwardDiffAD{40}},Bijectors.TransformedDistribution{DistributionsAD.TuringDiagMvNormal{Array{Float64,1},Array{Float64,1}},Stacked{NTuple{41,Identity{1}},41},Multivariate},Turing.Variational.var\"#logπ#2\"{DynamicPPL.Model{var\"#1#2\",(:y,),(),(),Tuple{Array{Array{Float64,1},1}},Tuple{}},DynamicPPL.VarInfo{NamedTuple{(:a, :x),Tuple{DynamicPPL.Metadata{Dict{DynamicPPL.VarName{:a,Tuple{}},Int64},Array{MvNormal{Float64,PDMats.PDMat{Float64,Array{Float64,2}},Array{Float64,1}},1},Array{DynamicPPL.VarName{:a,Tuple{}},1},Array{Float64,1},Array{Set{DynamicPPL.Selector},1}},DynamicPPL.Metadata{Dict{DynamicPPL.VarName{:x,Tuple{Tuple{Int64}}},Int64},Array{MvNormal{Float64,PDMats.PDMat{Float64,Array{Float64,2}},Array{Float64,1}},1},Array{DynamicPPL.VarName{:x,Tuple{Tuple{Int64}}},1},Array{Float64,1},Array{Set{DynamicPPL.Selector},1}}}},Float64}},Tuple{Int64}},Float64},Float64,10,Array{ForwardDiff.Dual{ForwardDiff.Tag{AdvancedVI.var\"#f#19\"{ELBO,ADVI{AdvancedVI.ForwardDiffAD{40}},Bijectors.TransformedDistribution{DistributionsAD.TuringDiagMvNormal{Array{Float64,1},Array{Float64,1}},Stacked{NTuple{41,Identity{1}},41},Multivariate},Turing.Variational.var\"#logπ#2\"{DynamicPPL.Model{var\"#1#2\",(:y,),(),(),Tuple{Array{Array{Float64,1},1}},Tuple{}},DynamicPPL.VarInfo{NamedTuple{(:a, :x),Tuple{DynamicPPL.Metadata{Dict{DynamicPPL.VarName{:a,Tuple{}},Int64},Array{MvNormal{Float64,PDMats.PDMat{Float64,Array{Float64,2}},Array{Float64,1}},1},Array{DynamicPPL.VarName{:a,Tuple{}},1},Array{Float64,1},Array{Set{DynamicPPL.Selector},1}},DynamicPPL.Metadata{Dict{DynamicPPL.VarName{:x,Tuple{Tuple{Int64}}},Int64},Array{MvNormal{Float64,PDMats.PDMat{Float64,Array{Float64,2}},Array{Float64,1}},1},Array{DynamicPPL.VarName{:x,Tuple{Tuple{Int64}}},1},Array{Float64,1},Array{Set{DynamicPPL.Selector},1}}}},Float64}},Tuple{Int64}},Float64},Float64,10},1}}) at /home/polyten/.julia/packages/ForwardDiff/m7cm5/src/gradient.jl:35",
      " [26] grad!(::ELBO, ::ADVI{AdvancedVI.ForwardDiffAD{40}}, ::Bijectors.TransformedDistribution{DistributionsAD.TuringDiagMvNormal{Array{Float64,1},Array{Float64,1}},Stacked{NTuple{41,Identity{1}},41},Multivariate}, ::Function, ::Array{Float64,1}, ::DiffResults.MutableDiffResult{1,Float64,Tuple{Array{Float64,1}}}, ::Int64) at /home/polyten/.julia/packages/AdvancedVI/8ttTK/src/AdvancedVI.jl:149",
      " [27] macro expansion at /home/polyten/.julia/packages/AdvancedVI/8ttTK/src/AdvancedVI.jl:213 [inlined]",
      " [28] macro expansion at ./timing.jl:233 [inlined]",
      " [29] optimize!(::ELBO, ::ADVI{AdvancedVI.ForwardDiffAD{40}}, ::Bijectors.TransformedDistribution{DistributionsAD.TuringDiagMvNormal{Array{Float64,1},Array{Float64,1}},Stacked{NTuple{41,Identity{1}},41},Multivariate}, ::Function, ::Array{Float64,1}; optimizer::TruncatedADAGrad) at /home/polyten/.julia/packages/AdvancedVI/8ttTK/src/AdvancedVI.jl:212",
      " [30] vi(::DynamicPPL.Model{var\"#1#2\",(:y,),(),(),Tuple{Array{Array{Float64,1},1}},Tuple{}}, ::ADVI{AdvancedVI.ForwardDiffAD{40}}, ::Bijectors.TransformedDistribution{DistributionsAD.TuringDiagMvNormal{Array{Float64,1},Array{Float64,1}},Stacked{NTuple{41,Identity{1}},41},Multivariate}; optimizer::TruncatedADAGrad) at /home/polyten/.julia/packages/Turing/a9ANC/src/variational/advi.jl:125",
      " [31] vi(::DynamicPPL.Model{var\"#1#2\",(:y,),(),(),Tuple{Array{Array{Float64,1},1}},Tuple{}}, ::ADVI{AdvancedVI.ForwardDiffAD{40}}, ::Bijectors.TransformedDistribution{DistributionsAD.TuringDiagMvNormal{Array{Float64,1},Array{Float64,1}},Stacked{NTuple{41,Identity{1}},41},Multivariate}) at /home/polyten/.julia/packages/Turing/a9ANC/src/variational/advi.jl:121",
      " [32] macro expansion at ./timing.jl:233 [inlined]",
      " [33] top-level scope at ./In[4]:13",
      " [34] include_string(::Function, ::Module, ::String, ::String) at ./loading.jl:1091",
      " [35] execute_code(::String, ::String) at /home/polyten/.julia/packages/IJulia/a1SNk/src/execute_request.jl:27",
      " [36] execute_request(::ZMQ.Socket, ::IJulia.Msg) at /home/polyten/.julia/packages/IJulia/a1SNk/src/execute_request.jl:86",
      " [37] #invokelatest#1 at ./essentials.jl:710 [inlined]",
      " [38] invokelatest at ./essentials.jl:709 [inlined]",
      " [39] eventloop(::ZMQ.Socket) at /home/polyten/.julia/packages/IJulia/a1SNk/src/eventloop.jl:8",
      " [40] (::IJulia.var\"#15#18\")() at ./task.jl:356"
     ]
    }
   ],
   "source": [
    "etime1 = @elapsed advi = ADVI(10, 100);\n",
    "etime2 = @elapsed q = vi(BLDS(y_hat), advi);\n",
    "total_time = etime1 + etime2\n",
    "\n",
    "n_its = 10\n",
    "F_mf = Vector{Float64}(undef, n_its)\n",
    "F_x = Vector{Float64}(undef, n_its)\n",
    "\n",
    "F_mf[1] = - AdvancedVI.elbo(advi, q, BLDS(y_hat), 1000);\n",
    "F_x[1] = total_time\n",
    "\n",
    "for i=2:n_its\n",
    "    etime = @elapsed q = vi(BLDS(y_hat), advi, q);\n",
    "    total_time += etime\n",
    "    F_mf[i] = - AdvancedVI.elbo(advi, q, BLDS(y_hat), 1000);\n",
    "    F_x[i] = total_time\n",
    "end"
   ]
  },
  {
   "cell_type": "code",
   "execution_count": 5,
   "metadata": {},
   "outputs": [
    {
     "data": {
      "text/plain": [
       "4-element Array{Float64,1}:\n",
       "  1.0378140350535556\n",
       " -0.45673441777234036\n",
       "  0.2289134061593313\n",
       "  0.7996994370288057"
      ]
     },
     "execution_count": 5,
     "metadata": {},
     "output_type": "execute_result"
    }
   ],
   "source": [
    "a_est = mean(rand(q,1000),dims=2)[1:4]"
   ]
  },
  {
   "cell_type": "code",
   "execution_count": 6,
   "metadata": {},
   "outputs": [
    {
     "data": {
      "image/svg+xml": [
       "<?xml version=\"1.0\" encoding=\"utf-8\"?>\n",
       "<svg xmlns=\"http://www.w3.org/2000/svg\" xmlns:xlink=\"http://www.w3.org/1999/xlink\" width=\"600\" height=\"400\" viewBox=\"0 0 2400 1600\">\n",
       "<defs>\n",
       "  <clipPath id=\"clip8400\">\n",
       "    <rect x=\"0\" y=\"0\" width=\"2400\" height=\"1600\"/>\n",
       "  </clipPath>\n",
       "</defs>\n",
       "<path clip-path=\"url(#clip8400)\" d=\"\n",
       "M0 1600 L2400 1600 L2400 0 L0 0  Z\n",
       "  \" fill=\"#ffffff\" fill-rule=\"evenodd\" fill-opacity=\"1\"/>\n",
       "<defs>\n",
       "  <clipPath id=\"clip8401\">\n",
       "    <rect x=\"480\" y=\"0\" width=\"1681\" height=\"1600\"/>\n",
       "  </clipPath>\n",
       "</defs>\n",
       "<path clip-path=\"url(#clip8400)\" d=\"\n",
       "M278.894 1423.18 L2352.76 1423.18 L2352.76 47.2441 L278.894 47.2441  Z\n",
       "  \" fill=\"#ffffff\" fill-rule=\"evenodd\" fill-opacity=\"1\"/>\n",
       "<defs>\n",
       "  <clipPath id=\"clip8402\">\n",
       "    <rect x=\"278\" y=\"47\" width=\"2075\" height=\"1377\"/>\n",
       "  </clipPath>\n",
       "</defs>\n",
       "<polyline clip-path=\"url(#clip8402)\" style=\"stroke:#000000; stroke-width:2; stroke-opacity:0.1; fill:none\" points=\"\n",
       "  337.588,1423.18 337.588,47.2441 \n",
       "  \"/>\n",
       "<polyline clip-path=\"url(#clip8402)\" style=\"stroke:#000000; stroke-width:2; stroke-opacity:0.1; fill:none\" points=\"\n",
       "  688.439,1423.18 688.439,47.2441 \n",
       "  \"/>\n",
       "<polyline clip-path=\"url(#clip8402)\" style=\"stroke:#000000; stroke-width:2; stroke-opacity:0.1; fill:none\" points=\"\n",
       "  1039.29,1423.18 1039.29,47.2441 \n",
       "  \"/>\n",
       "<polyline clip-path=\"url(#clip8402)\" style=\"stroke:#000000; stroke-width:2; stroke-opacity:0.1; fill:none\" points=\"\n",
       "  1390.14,1423.18 1390.14,47.2441 \n",
       "  \"/>\n",
       "<polyline clip-path=\"url(#clip8402)\" style=\"stroke:#000000; stroke-width:2; stroke-opacity:0.1; fill:none\" points=\"\n",
       "  1740.99,1423.18 1740.99,47.2441 \n",
       "  \"/>\n",
       "<polyline clip-path=\"url(#clip8402)\" style=\"stroke:#000000; stroke-width:2; stroke-opacity:0.1; fill:none\" points=\"\n",
       "  2091.84,1423.18 2091.84,47.2441 \n",
       "  \"/>\n",
       "<polyline clip-path=\"url(#clip8402)\" style=\"stroke:#000000; stroke-width:2; stroke-opacity:0.1; fill:none\" points=\"\n",
       "  278.894,1384.24 2352.76,1384.24 \n",
       "  \"/>\n",
       "<polyline clip-path=\"url(#clip8402)\" style=\"stroke:#000000; stroke-width:2; stroke-opacity:0.1; fill:none\" points=\"\n",
       "  278.894,1072.39 2352.76,1072.39 \n",
       "  \"/>\n",
       "<polyline clip-path=\"url(#clip8402)\" style=\"stroke:#000000; stroke-width:2; stroke-opacity:0.1; fill:none\" points=\"\n",
       "  278.894,760.541 2352.76,760.541 \n",
       "  \"/>\n",
       "<polyline clip-path=\"url(#clip8402)\" style=\"stroke:#000000; stroke-width:2; stroke-opacity:0.1; fill:none\" points=\"\n",
       "  278.894,448.693 2352.76,448.693 \n",
       "  \"/>\n",
       "<polyline clip-path=\"url(#clip8402)\" style=\"stroke:#000000; stroke-width:2; stroke-opacity:0.1; fill:none\" points=\"\n",
       "  278.894,136.844 2352.76,136.844 \n",
       "  \"/>\n",
       "<polyline clip-path=\"url(#clip8400)\" style=\"stroke:#000000; stroke-width:4; stroke-opacity:1; fill:none\" points=\"\n",
       "  278.894,1423.18 2352.76,1423.18 \n",
       "  \"/>\n",
       "<polyline clip-path=\"url(#clip8400)\" style=\"stroke:#000000; stroke-width:4; stroke-opacity:1; fill:none\" points=\"\n",
       "  278.894,1423.18 278.894,47.2441 \n",
       "  \"/>\n",
       "<polyline clip-path=\"url(#clip8400)\" style=\"stroke:#000000; stroke-width:4; stroke-opacity:1; fill:none\" points=\"\n",
       "  337.588,1423.18 337.588,1406.67 \n",
       "  \"/>\n",
       "<polyline clip-path=\"url(#clip8400)\" style=\"stroke:#000000; stroke-width:4; stroke-opacity:1; fill:none\" points=\"\n",
       "  688.439,1423.18 688.439,1406.67 \n",
       "  \"/>\n",
       "<polyline clip-path=\"url(#clip8400)\" style=\"stroke:#000000; stroke-width:4; stroke-opacity:1; fill:none\" points=\"\n",
       "  1039.29,1423.18 1039.29,1406.67 \n",
       "  \"/>\n",
       "<polyline clip-path=\"url(#clip8400)\" style=\"stroke:#000000; stroke-width:4; stroke-opacity:1; fill:none\" points=\"\n",
       "  1390.14,1423.18 1390.14,1406.67 \n",
       "  \"/>\n",
       "<polyline clip-path=\"url(#clip8400)\" style=\"stroke:#000000; stroke-width:4; stroke-opacity:1; fill:none\" points=\"\n",
       "  1740.99,1423.18 1740.99,1406.67 \n",
       "  \"/>\n",
       "<polyline clip-path=\"url(#clip8400)\" style=\"stroke:#000000; stroke-width:4; stroke-opacity:1; fill:none\" points=\"\n",
       "  2091.84,1423.18 2091.84,1406.67 \n",
       "  \"/>\n",
       "<polyline clip-path=\"url(#clip8400)\" style=\"stroke:#000000; stroke-width:4; stroke-opacity:1; fill:none\" points=\"\n",
       "  278.894,1384.24 303.78,1384.24 \n",
       "  \"/>\n",
       "<polyline clip-path=\"url(#clip8400)\" style=\"stroke:#000000; stroke-width:4; stroke-opacity:1; fill:none\" points=\"\n",
       "  278.894,1072.39 303.78,1072.39 \n",
       "  \"/>\n",
       "<polyline clip-path=\"url(#clip8400)\" style=\"stroke:#000000; stroke-width:4; stroke-opacity:1; fill:none\" points=\"\n",
       "  278.894,760.541 303.78,760.541 \n",
       "  \"/>\n",
       "<polyline clip-path=\"url(#clip8400)\" style=\"stroke:#000000; stroke-width:4; stroke-opacity:1; fill:none\" points=\"\n",
       "  278.894,448.693 303.78,448.693 \n",
       "  \"/>\n",
       "<polyline clip-path=\"url(#clip8400)\" style=\"stroke:#000000; stroke-width:4; stroke-opacity:1; fill:none\" points=\"\n",
       "  278.894,136.844 303.78,136.844 \n",
       "  \"/>\n",
       "<path clip-path=\"url(#clip8400)\" d=\"M 0 0 M337.588 1445.17 Q333.977 1445.17 332.148 1448.74 Q330.343 1452.28 330.343 1459.41 Q330.343 1466.51 332.148 1470.08 Q333.977 1473.62 337.588 1473.62 Q341.222 1473.62 343.028 1470.08 Q344.856 1466.51 344.856 1459.41 Q344.856 1452.28 343.028 1448.74 Q341.222 1445.17 337.588 1445.17 M337.588 1441.47 Q343.398 1441.47 346.454 1446.07 Q349.532 1450.66 349.532 1459.41 Q349.532 1468.13 346.454 1472.74 Q343.398 1477.32 337.588 1477.32 Q331.778 1477.32 328.699 1472.74 Q325.644 1468.13 325.644 1459.41 Q325.644 1450.66 328.699 1446.07 Q331.778 1441.47 337.588 1441.47 Z\" fill=\"#000000\" fill-rule=\"evenodd\" fill-opacity=\"1\" /><path clip-path=\"url(#clip8400)\" d=\"M 0 0 M678.717 1442.09 L697.073 1442.09 L697.073 1446.03 L682.999 1446.03 L682.999 1454.5 Q684.018 1454.15 685.036 1453.99 Q686.055 1453.8 687.073 1453.8 Q692.86 1453.8 696.24 1456.98 Q699.619 1460.15 699.619 1465.56 Q699.619 1471.14 696.147 1474.24 Q692.675 1477.32 686.356 1477.32 Q684.18 1477.32 681.911 1476.95 Q679.666 1476.58 677.258 1475.84 L677.258 1471.14 Q679.342 1472.28 681.564 1472.83 Q683.786 1473.39 686.263 1473.39 Q690.268 1473.39 692.606 1471.28 Q694.943 1469.18 694.943 1465.56 Q694.943 1461.95 692.606 1459.85 Q690.268 1457.74 686.263 1457.74 Q684.388 1457.74 682.513 1458.16 Q680.661 1458.57 678.717 1459.45 L678.717 1442.09 Z\" fill=\"#000000\" fill-rule=\"evenodd\" fill-opacity=\"1\" /><path clip-path=\"url(#clip8400)\" d=\"M 0 0 M1016.16 1472.72 L1023.8 1472.72 L1023.8 1446.35 L1015.49 1448.02 L1015.49 1443.76 L1023.76 1442.09 L1028.43 1442.09 L1028.43 1472.72 L1036.07 1472.72 L1036.07 1476.65 L1016.16 1476.65 L1016.16 1472.72 Z\" fill=\"#000000\" fill-rule=\"evenodd\" fill-opacity=\"1\" /><path clip-path=\"url(#clip8400)\" d=\"M 0 0 M1051.14 1445.17 Q1047.53 1445.17 1045.7 1448.74 Q1043.9 1452.28 1043.9 1459.41 Q1043.9 1466.51 1045.7 1470.08 Q1047.53 1473.62 1051.14 1473.62 Q1054.78 1473.62 1056.58 1470.08 Q1058.41 1466.51 1058.41 1459.41 Q1058.41 1452.28 1056.58 1448.74 Q1054.78 1445.17 1051.14 1445.17 M1051.14 1441.47 Q1056.95 1441.47 1060.01 1446.07 Q1063.09 1450.66 1063.09 1459.41 Q1063.09 1468.13 1060.01 1472.74 Q1056.95 1477.32 1051.14 1477.32 Q1045.33 1477.32 1042.25 1472.74 Q1039.2 1468.13 1039.2 1459.41 Q1039.2 1450.66 1042.25 1446.07 Q1045.33 1441.47 1051.14 1441.47 Z\" fill=\"#000000\" fill-rule=\"evenodd\" fill-opacity=\"1\" /><path clip-path=\"url(#clip8400)\" d=\"M 0 0 M1367.51 1472.72 L1375.15 1472.72 L1375.15 1446.35 L1366.84 1448.02 L1366.84 1443.76 L1375.11 1442.09 L1379.78 1442.09 L1379.78 1472.72 L1387.42 1472.72 L1387.42 1476.65 L1367.51 1476.65 L1367.51 1472.72 Z\" fill=\"#000000\" fill-rule=\"evenodd\" fill-opacity=\"1\" /><path clip-path=\"url(#clip8400)\" d=\"M 0 0 M1392.54 1442.09 L1410.89 1442.09 L1410.89 1446.03 L1396.82 1446.03 L1396.82 1454.5 Q1397.84 1454.15 1398.86 1453.99 Q1399.87 1453.8 1400.89 1453.8 Q1406.68 1453.8 1410.06 1456.98 Q1413.44 1460.15 1413.44 1465.56 Q1413.44 1471.14 1409.97 1474.24 Q1406.49 1477.32 1400.18 1477.32 Q1398 1477.32 1395.73 1476.95 Q1393.49 1476.58 1391.08 1475.84 L1391.08 1471.14 Q1393.16 1472.28 1395.38 1472.83 Q1397.61 1473.39 1400.08 1473.39 Q1404.09 1473.39 1406.43 1471.28 Q1408.76 1469.18 1408.76 1465.56 Q1408.76 1461.95 1406.43 1459.85 Q1404.09 1457.74 1400.08 1457.74 Q1398.21 1457.74 1396.33 1458.16 Q1394.48 1458.57 1392.54 1459.45 L1392.54 1442.09 Z\" fill=\"#000000\" fill-rule=\"evenodd\" fill-opacity=\"1\" /><path clip-path=\"url(#clip8400)\" d=\"M 0 0 M1722.14 1472.72 L1738.46 1472.72 L1738.46 1476.65 L1716.51 1476.65 L1716.51 1472.72 Q1719.17 1469.96 1723.76 1465.33 Q1728.36 1460.68 1729.54 1459.34 Q1731.79 1456.81 1732.67 1455.08 Q1733.57 1453.32 1733.57 1451.63 Q1733.57 1448.87 1731.63 1447.14 Q1729.71 1445.4 1726.61 1445.4 Q1724.41 1445.4 1721.95 1446.17 Q1719.52 1446.93 1716.74 1448.48 L1716.74 1443.76 Q1719.57 1442.62 1722.02 1442.05 Q1724.48 1441.47 1726.51 1441.47 Q1731.88 1441.47 1735.08 1444.15 Q1738.27 1446.84 1738.27 1451.33 Q1738.27 1453.46 1737.46 1455.38 Q1736.67 1457.28 1734.57 1459.87 Q1733.99 1460.54 1730.89 1463.76 Q1727.79 1466.95 1722.14 1472.72 Z\" fill=\"#000000\" fill-rule=\"evenodd\" fill-opacity=\"1\" /><path clip-path=\"url(#clip8400)\" d=\"M 0 0 M1753.53 1445.17 Q1749.92 1445.17 1748.09 1448.74 Q1746.28 1452.28 1746.28 1459.41 Q1746.28 1466.51 1748.09 1470.08 Q1749.92 1473.62 1753.53 1473.62 Q1757.16 1473.62 1758.97 1470.08 Q1760.79 1466.51 1760.79 1459.41 Q1760.79 1452.28 1758.97 1448.74 Q1757.16 1445.17 1753.53 1445.17 M1753.53 1441.47 Q1759.34 1441.47 1762.39 1446.07 Q1765.47 1450.66 1765.47 1459.41 Q1765.47 1468.13 1762.39 1472.74 Q1759.34 1477.32 1753.53 1477.32 Q1747.72 1477.32 1744.64 1472.74 Q1741.58 1468.13 1741.58 1459.41 Q1741.58 1450.66 1744.64 1446.07 Q1747.72 1441.47 1753.53 1441.47 Z\" fill=\"#000000\" fill-rule=\"evenodd\" fill-opacity=\"1\" /><path clip-path=\"url(#clip8400)\" d=\"M 0 0 M2073.49 1472.72 L2089.81 1472.72 L2089.81 1476.65 L2067.86 1476.65 L2067.86 1472.72 Q2070.52 1469.96 2075.11 1465.33 Q2079.71 1460.68 2080.89 1459.34 Q2083.14 1456.81 2084.02 1455.08 Q2084.92 1453.32 2084.92 1451.63 Q2084.92 1448.87 2082.98 1447.14 Q2081.06 1445.4 2077.95 1445.4 Q2075.75 1445.4 2073.3 1446.17 Q2070.87 1446.93 2068.09 1448.48 L2068.09 1443.76 Q2070.92 1442.62 2073.37 1442.05 Q2075.82 1441.47 2077.86 1441.47 Q2083.23 1441.47 2086.43 1444.15 Q2089.62 1446.84 2089.62 1451.33 Q2089.62 1453.46 2088.81 1455.38 Q2088.02 1457.28 2085.92 1459.87 Q2085.34 1460.54 2082.24 1463.76 Q2079.13 1466.95 2073.49 1472.72 Z\" fill=\"#000000\" fill-rule=\"evenodd\" fill-opacity=\"1\" /><path clip-path=\"url(#clip8400)\" d=\"M 0 0 M2094.92 1442.09 L2113.28 1442.09 L2113.28 1446.03 L2099.2 1446.03 L2099.2 1454.5 Q2100.22 1454.15 2101.24 1453.99 Q2102.26 1453.8 2103.28 1453.8 Q2109.06 1453.8 2112.44 1456.98 Q2115.82 1460.15 2115.82 1465.56 Q2115.82 1471.14 2112.35 1474.24 Q2108.88 1477.32 2102.56 1477.32 Q2100.38 1477.32 2098.12 1476.95 Q2095.87 1476.58 2093.46 1475.84 L2093.46 1471.14 Q2095.55 1472.28 2097.77 1472.83 Q2099.99 1473.39 2102.47 1473.39 Q2106.47 1473.39 2108.81 1471.28 Q2111.15 1469.18 2111.15 1465.56 Q2111.15 1461.95 2108.81 1459.85 Q2106.47 1457.74 2102.47 1457.74 Q2100.59 1457.74 2098.72 1458.16 Q2096.87 1458.57 2094.92 1459.45 L2094.92 1442.09 Z\" fill=\"#000000\" fill-rule=\"evenodd\" fill-opacity=\"1\" /><path clip-path=\"url(#clip8400)\" d=\"M 0 0 M242.949 1370.04 Q239.338 1370.04 237.51 1373.6 Q235.704 1377.14 235.704 1384.27 Q235.704 1391.38 237.51 1394.94 Q239.338 1398.49 242.949 1398.49 Q246.584 1398.49 248.389 1394.94 Q250.218 1391.38 250.218 1384.27 Q250.218 1377.14 248.389 1373.6 Q246.584 1370.04 242.949 1370.04 M242.949 1366.33 Q248.76 1366.33 251.815 1370.94 Q254.894 1375.52 254.894 1384.27 Q254.894 1393 251.815 1397.61 Q248.76 1402.19 242.949 1402.19 Q237.139 1402.19 234.061 1397.61 Q231.005 1393 231.005 1384.27 Q231.005 1375.52 234.061 1370.94 Q237.139 1366.33 242.949 1366.33 Z\" fill=\"#000000\" fill-rule=\"evenodd\" fill-opacity=\"1\" /><path clip-path=\"url(#clip8400)\" d=\"M 0 0 M158.529 1085.73 L174.848 1085.73 L174.848 1089.67 L152.904 1089.67 L152.904 1085.73 Q155.566 1082.98 160.149 1078.35 Q164.755 1073.7 165.936 1072.36 Q168.181 1069.83 169.061 1068.1 Q169.964 1066.34 169.964 1064.65 Q169.964 1061.89 168.019 1060.16 Q166.098 1058.42 162.996 1058.42 Q160.797 1058.42 158.343 1059.18 Q155.913 1059.95 153.135 1061.5 L153.135 1056.78 Q155.959 1055.64 158.413 1055.06 Q160.866 1054.48 162.903 1054.48 Q168.274 1054.48 171.468 1057.17 Q174.663 1059.86 174.663 1064.35 Q174.663 1066.48 173.852 1068.4 Q173.065 1070.29 170.959 1072.89 Q170.38 1073.56 167.278 1076.78 Q164.177 1079.97 158.529 1085.73 Z\" fill=\"#000000\" fill-rule=\"evenodd\" fill-opacity=\"1\" /><path clip-path=\"url(#clip8400)\" d=\"M 0 0 M179.964 1055.11 L198.32 1055.11 L198.32 1059.04 L184.246 1059.04 L184.246 1067.52 Q185.264 1067.17 186.283 1067.01 Q187.301 1066.82 188.32 1066.82 Q194.107 1066.82 197.487 1069.99 Q200.866 1073.17 200.866 1078.58 Q200.866 1084.16 197.394 1087.26 Q193.922 1090.34 187.602 1090.34 Q185.427 1090.34 183.158 1089.97 Q180.913 1089.6 178.505 1088.86 L178.505 1084.16 Q180.589 1085.29 182.811 1085.85 Q185.033 1086.41 187.51 1086.41 Q191.514 1086.41 193.852 1084.3 Q196.19 1082.19 196.19 1078.58 Q196.19 1074.97 193.852 1072.86 Q191.514 1070.76 187.51 1070.76 Q185.635 1070.76 183.76 1071.17 Q181.908 1071.59 179.964 1072.47 L179.964 1055.11 Z\" fill=\"#000000\" fill-rule=\"evenodd\" fill-opacity=\"1\" /><path clip-path=\"url(#clip8400)\" d=\"M 0 0 M215.936 1058.19 Q212.325 1058.19 210.496 1061.75 Q208.69 1065.29 208.69 1072.42 Q208.69 1079.53 210.496 1083.1 Q212.325 1086.64 215.936 1086.64 Q219.57 1086.64 221.375 1083.1 Q223.204 1079.53 223.204 1072.42 Q223.204 1065.29 221.375 1061.75 Q219.57 1058.19 215.936 1058.19 M215.936 1054.48 Q221.746 1054.48 224.801 1059.09 Q227.88 1063.67 227.88 1072.42 Q227.88 1081.15 224.801 1085.76 Q221.746 1090.34 215.936 1090.34 Q210.125 1090.34 207.047 1085.76 Q203.991 1081.15 203.991 1072.42 Q203.991 1063.67 207.047 1059.09 Q210.125 1054.48 215.936 1054.48 Z\" fill=\"#000000\" fill-rule=\"evenodd\" fill-opacity=\"1\" /><path clip-path=\"url(#clip8400)\" d=\"M 0 0 M242.949 1058.19 Q239.338 1058.19 237.51 1061.75 Q235.704 1065.29 235.704 1072.42 Q235.704 1079.53 237.51 1083.1 Q239.338 1086.64 242.949 1086.64 Q246.584 1086.64 248.389 1083.1 Q250.218 1079.53 250.218 1072.42 Q250.218 1065.29 248.389 1061.75 Q246.584 1058.19 242.949 1058.19 M242.949 1054.48 Q248.76 1054.48 251.815 1059.09 Q254.894 1063.67 254.894 1072.42 Q254.894 1081.15 251.815 1085.76 Q248.76 1090.34 242.949 1090.34 Q237.139 1090.34 234.061 1085.76 Q231.005 1081.15 231.005 1072.42 Q231.005 1063.67 234.061 1059.09 Q237.139 1054.48 242.949 1054.48 Z\" fill=\"#000000\" fill-rule=\"evenodd\" fill-opacity=\"1\" /><path clip-path=\"url(#clip8400)\" d=\"M 0 0 M152.95 743.261 L171.306 743.261 L171.306 747.196 L157.232 747.196 L157.232 755.669 Q158.251 755.321 159.269 755.159 Q160.288 754.974 161.306 754.974 Q167.093 754.974 170.473 758.145 Q173.852 761.317 173.852 766.733 Q173.852 772.312 170.38 775.414 Q166.908 778.493 160.589 778.493 Q158.413 778.493 156.144 778.122 Q153.899 777.752 151.492 777.011 L151.492 772.312 Q153.575 773.446 155.797 774.002 Q158.019 774.557 160.496 774.557 Q164.501 774.557 166.839 772.451 Q169.177 770.344 169.177 766.733 Q169.177 763.122 166.839 761.016 Q164.501 758.909 160.496 758.909 Q158.621 758.909 156.746 759.326 Q154.894 759.743 152.95 760.622 L152.95 743.261 Z\" fill=\"#000000\" fill-rule=\"evenodd\" fill-opacity=\"1\" /><path clip-path=\"url(#clip8400)\" d=\"M 0 0 M188.922 746.34 Q185.311 746.34 183.482 749.905 Q181.677 753.446 181.677 760.576 Q181.677 767.682 183.482 771.247 Q185.311 774.789 188.922 774.789 Q192.556 774.789 194.362 771.247 Q196.19 767.682 196.19 760.576 Q196.19 753.446 194.362 749.905 Q192.556 746.34 188.922 746.34 M188.922 742.636 Q194.732 742.636 197.788 747.243 Q200.866 751.826 200.866 760.576 Q200.866 769.303 197.788 773.909 Q194.732 778.493 188.922 778.493 Q183.112 778.493 180.033 773.909 Q176.977 769.303 176.977 760.576 Q176.977 751.826 180.033 747.243 Q183.112 742.636 188.922 742.636 Z\" fill=\"#000000\" fill-rule=\"evenodd\" fill-opacity=\"1\" /><path clip-path=\"url(#clip8400)\" d=\"M 0 0 M215.936 746.34 Q212.325 746.34 210.496 749.905 Q208.69 753.446 208.69 760.576 Q208.69 767.682 210.496 771.247 Q212.325 774.789 215.936 774.789 Q219.57 774.789 221.375 771.247 Q223.204 767.682 223.204 760.576 Q223.204 753.446 221.375 749.905 Q219.57 746.34 215.936 746.34 M215.936 742.636 Q221.746 742.636 224.801 747.243 Q227.88 751.826 227.88 760.576 Q227.88 769.303 224.801 773.909 Q221.746 778.493 215.936 778.493 Q210.125 778.493 207.047 773.909 Q203.991 769.303 203.991 760.576 Q203.991 751.826 207.047 747.243 Q210.125 742.636 215.936 742.636 Z\" fill=\"#000000\" fill-rule=\"evenodd\" fill-opacity=\"1\" /><path clip-path=\"url(#clip8400)\" d=\"M 0 0 M242.949 746.34 Q239.338 746.34 237.51 749.905 Q235.704 753.446 235.704 760.576 Q235.704 767.682 237.51 771.247 Q239.338 774.789 242.949 774.789 Q246.584 774.789 248.389 771.247 Q250.218 767.682 250.218 760.576 Q250.218 753.446 248.389 749.905 Q246.584 746.34 242.949 746.34 M242.949 742.636 Q248.76 742.636 251.815 747.243 Q254.894 751.826 254.894 760.576 Q254.894 769.303 251.815 773.909 Q248.76 778.493 242.949 778.493 Q237.139 778.493 234.061 773.909 Q231.005 769.303 231.005 760.576 Q231.005 751.826 234.061 747.243 Q237.139 742.636 242.949 742.636 Z\" fill=\"#000000\" fill-rule=\"evenodd\" fill-opacity=\"1\" /><path clip-path=\"url(#clip8400)\" d=\"M 0 0 M152.626 431.413 L174.848 431.413 L174.848 433.404 L162.302 465.973 L157.417 465.973 L169.223 435.348 L152.626 435.348 L152.626 431.413 Z\" fill=\"#000000\" fill-rule=\"evenodd\" fill-opacity=\"1\" /><path clip-path=\"url(#clip8400)\" d=\"M 0 0 M179.964 431.413 L198.32 431.413 L198.32 435.348 L184.246 435.348 L184.246 443.82 Q185.264 443.473 186.283 443.311 Q187.301 443.126 188.32 443.126 Q194.107 443.126 197.487 446.297 Q200.866 449.468 200.866 454.885 Q200.866 460.464 197.394 463.565 Q193.922 466.644 187.602 466.644 Q185.427 466.644 183.158 466.274 Q180.913 465.903 178.505 465.163 L178.505 460.464 Q180.589 461.598 182.811 462.153 Q185.033 462.709 187.51 462.709 Q191.514 462.709 193.852 460.602 Q196.19 458.496 196.19 454.885 Q196.19 451.274 193.852 449.167 Q191.514 447.061 187.51 447.061 Q185.635 447.061 183.76 447.478 Q181.908 447.894 179.964 448.774 L179.964 431.413 Z\" fill=\"#000000\" fill-rule=\"evenodd\" fill-opacity=\"1\" /><path clip-path=\"url(#clip8400)\" d=\"M 0 0 M215.936 434.492 Q212.325 434.492 210.496 438.056 Q208.69 441.598 208.69 448.728 Q208.69 455.834 210.496 459.399 Q212.325 462.94 215.936 462.94 Q219.57 462.94 221.375 459.399 Q223.204 455.834 223.204 448.728 Q223.204 441.598 221.375 438.056 Q219.57 434.492 215.936 434.492 M215.936 430.788 Q221.746 430.788 224.801 435.394 Q227.88 439.978 227.88 448.728 Q227.88 457.454 224.801 462.061 Q221.746 466.644 215.936 466.644 Q210.125 466.644 207.047 462.061 Q203.991 457.454 203.991 448.728 Q203.991 439.978 207.047 435.394 Q210.125 430.788 215.936 430.788 Z\" fill=\"#000000\" fill-rule=\"evenodd\" fill-opacity=\"1\" /><path clip-path=\"url(#clip8400)\" d=\"M 0 0 M242.949 434.492 Q239.338 434.492 237.51 438.056 Q235.704 441.598 235.704 448.728 Q235.704 455.834 237.51 459.399 Q239.338 462.94 242.949 462.94 Q246.584 462.94 248.389 459.399 Q250.218 455.834 250.218 448.728 Q250.218 441.598 248.389 438.056 Q246.584 434.492 242.949 434.492 M242.949 430.788 Q248.76 430.788 251.815 435.394 Q254.894 439.978 254.894 448.728 Q254.894 457.454 251.815 462.061 Q248.76 466.644 242.949 466.644 Q237.139 466.644 234.061 462.061 Q231.005 457.454 231.005 448.728 Q231.005 439.978 234.061 435.394 Q237.139 430.788 242.949 430.788 Z\" fill=\"#000000\" fill-rule=\"evenodd\" fill-opacity=\"1\" /><path clip-path=\"url(#clip8400)\" d=\"M 0 0 M126.931 150.189 L134.57 150.189 L134.57 123.824 L126.26 125.49 L126.26 121.231 L134.524 119.564 L139.2 119.564 L139.2 150.189 L146.839 150.189 L146.839 154.124 L126.931 154.124 L126.931 150.189 Z\" fill=\"#000000\" fill-rule=\"evenodd\" fill-opacity=\"1\" /><path clip-path=\"url(#clip8400)\" d=\"M 0 0 M161.908 122.643 Q158.297 122.643 156.468 126.208 Q154.663 129.749 154.663 136.879 Q154.663 143.986 156.468 147.55 Q158.297 151.092 161.908 151.092 Q165.542 151.092 167.348 147.55 Q169.177 143.986 169.177 136.879 Q169.177 129.749 167.348 126.208 Q165.542 122.643 161.908 122.643 M161.908 118.939 Q167.718 118.939 170.774 123.546 Q173.852 128.129 173.852 136.879 Q173.852 145.606 170.774 150.212 Q167.718 154.796 161.908 154.796 Q156.098 154.796 153.019 150.212 Q149.964 145.606 149.964 136.879 Q149.964 128.129 153.019 123.546 Q156.098 118.939 161.908 118.939 Z\" fill=\"#000000\" fill-rule=\"evenodd\" fill-opacity=\"1\" /><path clip-path=\"url(#clip8400)\" d=\"M 0 0 M188.922 122.643 Q185.311 122.643 183.482 126.208 Q181.677 129.749 181.677 136.879 Q181.677 143.986 183.482 147.55 Q185.311 151.092 188.922 151.092 Q192.556 151.092 194.362 147.55 Q196.19 143.986 196.19 136.879 Q196.19 129.749 194.362 126.208 Q192.556 122.643 188.922 122.643 M188.922 118.939 Q194.732 118.939 197.788 123.546 Q200.866 128.129 200.866 136.879 Q200.866 145.606 197.788 150.212 Q194.732 154.796 188.922 154.796 Q183.112 154.796 180.033 150.212 Q176.977 145.606 176.977 136.879 Q176.977 128.129 180.033 123.546 Q183.112 118.939 188.922 118.939 Z\" fill=\"#000000\" fill-rule=\"evenodd\" fill-opacity=\"1\" /><path clip-path=\"url(#clip8400)\" d=\"M 0 0 M215.936 122.643 Q212.325 122.643 210.496 126.208 Q208.69 129.749 208.69 136.879 Q208.69 143.986 210.496 147.55 Q212.325 151.092 215.936 151.092 Q219.57 151.092 221.375 147.55 Q223.204 143.986 223.204 136.879 Q223.204 129.749 221.375 126.208 Q219.57 122.643 215.936 122.643 M215.936 118.939 Q221.746 118.939 224.801 123.546 Q227.88 128.129 227.88 136.879 Q227.88 145.606 224.801 150.212 Q221.746 154.796 215.936 154.796 Q210.125 154.796 207.047 150.212 Q203.991 145.606 203.991 136.879 Q203.991 128.129 207.047 123.546 Q210.125 118.939 215.936 118.939 Z\" fill=\"#000000\" fill-rule=\"evenodd\" fill-opacity=\"1\" /><path clip-path=\"url(#clip8400)\" d=\"M 0 0 M242.949 122.643 Q239.338 122.643 237.51 126.208 Q235.704 129.749 235.704 136.879 Q235.704 143.986 237.51 147.55 Q239.338 151.092 242.949 151.092 Q246.584 151.092 248.389 147.55 Q250.218 143.986 250.218 136.879 Q250.218 129.749 248.389 126.208 Q246.584 122.643 242.949 122.643 M242.949 118.939 Q248.76 118.939 251.815 123.546 Q254.894 128.129 254.894 136.879 Q254.894 145.606 251.815 150.212 Q248.76 154.796 242.949 154.796 Q237.139 154.796 234.061 150.212 Q231.005 145.606 231.005 136.879 Q231.005 128.129 234.061 123.546 Q237.139 118.939 242.949 118.939 Z\" fill=\"#000000\" fill-rule=\"evenodd\" fill-opacity=\"1\" /><path clip-path=\"url(#clip8400)\" d=\"M 0 0 M1156.6 1508.52 L1196.8 1508.52 L1196.8 1513.93 L1179.93 1513.93 L1179.93 1556.04 L1173.47 1556.04 L1173.47 1513.93 L1156.6 1513.93 L1156.6 1508.52 Z\" fill=\"#000000\" fill-rule=\"evenodd\" fill-opacity=\"1\" /><path clip-path=\"url(#clip8400)\" d=\"M 0 0 M1200.94 1520.4 L1206.8 1520.4 L1206.8 1556.04 L1200.94 1556.04 L1200.94 1520.4 M1200.94 1506.52 L1206.8 1506.52 L1206.8 1513.93 L1200.94 1513.93 L1200.94 1506.52 Z\" fill=\"#000000\" fill-rule=\"evenodd\" fill-opacity=\"1\" /><path clip-path=\"url(#clip8400)\" d=\"M 0 0 M1240.69 1527.24 Q1242.89 1523.29 1245.95 1521.41 Q1249 1519.54 1253.14 1519.54 Q1258.71 1519.54 1261.73 1523.45 Q1264.76 1527.33 1264.76 1534.53 L1264.76 1556.04 L1258.87 1556.04 L1258.87 1534.72 Q1258.87 1529.59 1257.05 1527.11 Q1255.24 1524.63 1251.52 1524.63 Q1246.96 1524.63 1244.32 1527.65 Q1241.68 1530.68 1241.68 1535.9 L1241.68 1556.04 L1235.79 1556.04 L1235.79 1534.72 Q1235.79 1529.56 1233.98 1527.11 Q1232.16 1524.63 1228.38 1524.63 Q1223.89 1524.63 1221.25 1527.68 Q1218.6 1530.71 1218.6 1535.9 L1218.6 1556.04 L1212.72 1556.04 L1212.72 1520.4 L1218.6 1520.4 L1218.6 1525.93 Q1220.61 1522.66 1223.41 1521.1 Q1226.21 1519.54 1230.06 1519.54 Q1233.95 1519.54 1236.65 1521.51 Q1239.39 1523.48 1240.69 1527.24 Z\" fill=\"#000000\" fill-rule=\"evenodd\" fill-opacity=\"1\" /><path clip-path=\"url(#clip8400)\" d=\"M 0 0 M1301.39 1536.76 L1301.39 1539.62 L1274.46 1539.62 Q1274.85 1545.67 1278.09 1548.85 Q1281.37 1552 1287.2 1552 Q1290.57 1552 1293.72 1551.17 Q1296.9 1550.35 1300.02 1548.69 L1300.02 1554.23 Q1296.87 1555.57 1293.56 1556.27 Q1290.25 1556.97 1286.84 1556.97 Q1278.31 1556.97 1273.32 1552 Q1268.35 1547.04 1268.35 1538.57 Q1268.35 1529.82 1273.06 1524.69 Q1277.81 1519.54 1285.83 1519.54 Q1293.02 1519.54 1297.19 1524.18 Q1301.39 1528.8 1301.39 1536.76 M1295.53 1535.04 Q1295.47 1530.23 1292.83 1527.37 Q1290.22 1524.5 1285.89 1524.5 Q1280.99 1524.5 1278.03 1527.27 Q1275.1 1530.04 1274.65 1535.07 L1295.53 1535.04 Z\" fill=\"#000000\" fill-rule=\"evenodd\" fill-opacity=\"1\" /><path clip-path=\"url(#clip8400)\" d=\"M 0 0 M1342.32 1506.58 Q1338.06 1513.9 1335.99 1521.06 Q1333.92 1528.23 1333.92 1535.58 Q1333.92 1542.93 1335.99 1550.16 Q1338.09 1557.35 1342.32 1564.64 L1337.23 1564.64 Q1332.46 1557.16 1330.07 1549.93 Q1327.71 1542.71 1327.71 1535.58 Q1327.71 1528.48 1330.07 1521.29 Q1332.42 1514.09 1337.23 1506.58 L1342.32 1506.58 Z\" fill=\"#000000\" fill-rule=\"evenodd\" fill-opacity=\"1\" /><path clip-path=\"url(#clip8400)\" d=\"M 0 0 M1371.19 1521.45 L1371.19 1526.98 Q1368.71 1525.71 1366.03 1525.07 Q1363.36 1524.44 1360.5 1524.44 Q1356.14 1524.44 1353.94 1525.77 Q1351.78 1527.11 1351.78 1529.79 Q1351.78 1531.82 1353.33 1533 Q1354.89 1534.15 1359.6 1535.2 L1361.61 1535.64 Q1367.85 1536.98 1370.46 1539.43 Q1373.1 1541.85 1373.1 1546.21 Q1373.1 1551.17 1369.15 1554.07 Q1365.24 1556.97 1358.36 1556.97 Q1355.5 1556.97 1352.38 1556.39 Q1349.29 1555.85 1345.86 1554.74 L1345.86 1548.69 Q1349.1 1550.38 1352.25 1551.24 Q1355.4 1552.07 1358.49 1552.07 Q1362.63 1552.07 1364.86 1550.66 Q1367.08 1549.23 1367.08 1546.65 Q1367.08 1544.27 1365.46 1542.99 Q1363.87 1541.72 1358.43 1540.54 L1356.39 1540.07 Q1350.95 1538.92 1348.53 1536.56 Q1346.11 1534.18 1346.11 1530.04 Q1346.11 1525.01 1349.67 1522.27 Q1353.24 1519.54 1359.8 1519.54 Q1363.04 1519.54 1365.91 1520.01 Q1368.77 1520.49 1371.19 1521.45 Z\" fill=\"#000000\" fill-rule=\"evenodd\" fill-opacity=\"1\" /><path clip-path=\"url(#clip8400)\" d=\"M 0 0 M1409.73 1536.76 L1409.73 1539.62 L1382.81 1539.62 Q1383.19 1545.67 1386.44 1548.85 Q1389.71 1552 1395.54 1552 Q1398.91 1552 1402.06 1551.17 Q1405.25 1550.35 1408.37 1548.69 L1408.37 1554.23 Q1405.22 1555.57 1401.91 1556.27 Q1398.59 1556.97 1395.19 1556.97 Q1386.66 1556.97 1381.66 1552 Q1376.7 1547.04 1376.7 1538.57 Q1376.7 1529.82 1381.41 1524.69 Q1386.15 1519.54 1394.17 1519.54 Q1401.36 1519.54 1405.53 1524.18 Q1409.73 1528.8 1409.73 1536.76 M1403.88 1535.04 Q1403.81 1530.23 1401.17 1527.37 Q1398.56 1524.5 1394.23 1524.5 Q1389.33 1524.5 1386.37 1527.27 Q1383.44 1530.04 1383 1535.07 L1403.88 1535.04 Z\" fill=\"#000000\" fill-rule=\"evenodd\" fill-opacity=\"1\" /><path clip-path=\"url(#clip8400)\" d=\"M 0 0 M1441.53 1521.76 L1441.53 1527.24 Q1439.05 1525.87 1436.53 1525.2 Q1434.05 1524.5 1431.51 1524.5 Q1425.81 1524.5 1422.66 1528.13 Q1419.51 1531.73 1419.51 1538.25 Q1419.51 1544.78 1422.66 1548.4 Q1425.81 1552 1431.51 1552 Q1434.05 1552 1436.53 1551.33 Q1439.05 1550.63 1441.53 1549.26 L1441.53 1554.68 Q1439.08 1555.82 1436.44 1556.39 Q1433.83 1556.97 1430.87 1556.97 Q1422.82 1556.97 1418.07 1551.91 Q1413.33 1546.85 1413.33 1538.25 Q1413.33 1529.53 1418.11 1524.53 Q1422.91 1519.54 1431.25 1519.54 Q1433.96 1519.54 1436.53 1520.11 Q1439.11 1520.65 1441.53 1521.76 Z\" fill=\"#000000\" fill-rule=\"evenodd\" fill-opacity=\"1\" /><path clip-path=\"url(#clip8400)\" d=\"M 0 0 M1448.5 1547.96 L1455.22 1547.96 L1455.22 1556.04 L1448.5 1556.04 L1448.5 1547.96 Z\" fill=\"#000000\" fill-rule=\"evenodd\" fill-opacity=\"1\" /><path clip-path=\"url(#clip8400)\" d=\"M 0 0 M1460.44 1506.58 L1465.53 1506.58 Q1470.3 1514.09 1472.66 1521.29 Q1475.05 1528.48 1475.05 1535.58 Q1475.05 1542.71 1472.66 1549.93 Q1470.3 1557.16 1465.53 1564.64 L1460.44 1564.64 Q1464.67 1557.35 1466.74 1550.16 Q1468.84 1542.93 1468.84 1535.58 Q1468.84 1528.23 1466.74 1521.06 Q1464.67 1513.9 1460.44 1506.58 Z\" fill=\"#000000\" fill-rule=\"evenodd\" fill-opacity=\"1\" /><path clip-path=\"url(#clip8400)\" d=\"M 0 0 M40.4842 909.569 L40.4842 882.26 L45.895 882.26 L45.895 903.139 L59.8996 903.139 L59.8996 884.297 L65.3104 884.297 L65.3104 903.139 L88.0042 903.139 L88.0042 909.569 L40.4842 909.569 Z\" fill=\"#000000\" fill-rule=\"evenodd\" fill-opacity=\"1\" /><path clip-path=\"url(#clip8400)\" d=\"M 0 0 M57.8307 860.203 Q57.2578 861.189 57.0032 862.367 Q56.7167 863.513 56.7167 864.913 Q56.7167 869.878 59.9632 872.552 Q63.1779 875.194 69.2253 875.194 L88.0042 875.194 L88.0042 881.082 L52.3562 881.082 L52.3562 875.194 L57.8944 875.194 Q54.6479 873.348 53.0883 870.388 Q51.4968 867.428 51.4968 863.195 Q51.4968 862.59 51.5923 861.858 Q51.656 861.126 51.8151 860.234 L57.8307 860.203 Z\" fill=\"#000000\" fill-rule=\"evenodd\" fill-opacity=\"1\" /><path clip-path=\"url(#clip8400)\" d=\"M 0 0 M68.7161 825 L71.5806 825 L71.5806 851.927 Q77.6281 851.545 80.8109 848.299 Q83.9619 845.02 83.9619 839.196 Q83.9619 835.822 83.1344 832.671 Q82.3069 829.488 80.6518 826.369 L86.1899 826.369 Q87.5267 829.52 88.227 832.83 Q88.9272 836.14 88.9272 839.546 Q88.9272 848.076 83.9619 853.073 Q78.9967 858.038 70.5303 858.038 Q61.7774 858.038 56.6531 853.328 Q51.4968 848.585 51.4968 840.564 Q51.4968 833.371 56.1438 829.202 Q60.7589 825 68.7161 825 M66.9973 830.857 Q62.1912 830.92 59.3266 833.562 Q56.4621 836.172 56.4621 840.501 Q56.4621 845.402 59.2312 848.362 Q62.0002 851.291 67.0292 851.736 L66.9973 830.857 Z\" fill=\"#000000\" fill-rule=\"evenodd\" fill-opacity=\"1\" /><path clip-path=\"url(#clip8400)\" d=\"M 0 0 M68.7161 788.366 L71.5806 788.366 L71.5806 815.293 Q77.6281 814.911 80.8109 811.664 Q83.9619 808.386 83.9619 802.561 Q83.9619 799.187 83.1344 796.036 Q82.3069 792.853 80.6518 789.734 L86.1899 789.734 Q87.5267 792.885 88.227 796.195 Q88.9272 799.506 88.9272 802.911 Q88.9272 811.441 83.9619 816.438 Q78.9967 821.404 70.5303 821.404 Q61.7774 821.404 56.6531 816.693 Q51.4968 811.951 51.4968 803.93 Q51.4968 796.737 56.1438 792.567 Q60.7589 788.366 68.7161 788.366 M66.9973 794.222 Q62.1912 794.286 59.3266 796.927 Q56.4621 799.537 56.4621 803.866 Q56.4621 808.768 59.2312 811.728 Q62.0002 814.656 67.0292 815.102 L66.9973 794.222 Z\" fill=\"#000000\" fill-rule=\"evenodd\" fill-opacity=\"1\" /><path clip-path=\"url(#clip8400)\" d=\"M 0 0 M68.7161 731.011 L71.5806 731.011 L71.5806 757.938 Q77.6281 757.556 80.8109 754.309 Q83.9619 751.031 83.9619 745.206 Q83.9619 741.832 83.1344 738.681 Q82.3069 735.498 80.6518 732.379 L86.1899 732.379 Q87.5267 735.53 88.227 738.84 Q88.9272 742.151 88.9272 745.556 Q88.9272 754.086 83.9619 759.083 Q78.9967 764.049 70.5303 764.049 Q61.7774 764.049 56.6531 759.338 Q51.4968 754.596 51.4968 746.575 Q51.4968 739.382 56.1438 735.212 Q60.7589 731.011 68.7161 731.011 M66.9973 736.867 Q62.1912 736.931 59.3266 739.572 Q56.4621 742.182 56.4621 746.511 Q56.4621 751.413 59.2312 754.373 Q62.0002 757.301 67.0292 757.747 L66.9973 736.867 Z\" fill=\"#000000\" fill-rule=\"evenodd\" fill-opacity=\"1\" /><path clip-path=\"url(#clip8400)\" d=\"M 0 0 M66.4881 695.235 L88.0042 695.235 L88.0042 701.092 L66.679 701.092 Q61.6183 701.092 59.1038 703.065 Q56.5894 705.039 56.5894 708.985 Q56.5894 713.728 59.6131 716.465 Q62.6368 719.202 67.8567 719.202 L88.0042 719.202 L88.0042 725.09 L52.3562 725.09 L52.3562 719.202 L57.8944 719.202 Q54.6797 717.102 53.0883 714.269 Q51.4968 711.404 51.4968 707.68 Q51.4968 701.537 55.3163 698.386 Q59.1038 695.235 66.4881 695.235 Z\" fill=\"#000000\" fill-rule=\"evenodd\" fill-opacity=\"1\" /><path clip-path=\"url(#clip8400)\" d=\"M 0 0 M68.7161 658.601 L71.5806 658.601 L71.5806 685.528 Q77.6281 685.146 80.8109 681.899 Q83.9619 678.621 83.9619 672.796 Q83.9619 669.422 83.1344 666.271 Q82.3069 663.089 80.6518 659.969 L86.1899 659.969 Q87.5267 663.12 88.227 666.431 Q88.9272 669.741 88.9272 673.146 Q88.9272 681.676 83.9619 686.673 Q78.9967 691.639 70.5303 691.639 Q61.7774 691.639 56.6531 686.928 Q51.4968 682.186 51.4968 674.165 Q51.4968 666.972 56.1438 662.802 Q60.7589 658.601 68.7161 658.601 M66.9973 664.457 Q62.1912 664.521 59.3266 667.163 Q56.4621 669.773 56.4621 674.101 Q56.4621 679.003 59.2312 681.963 Q62.0002 684.891 67.0292 685.337 L66.9973 664.457 Z\" fill=\"#000000\" fill-rule=\"evenodd\" fill-opacity=\"1\" /><path clip-path=\"url(#clip8400)\" d=\"M 0 0 M57.8307 631.801 Q57.2578 632.788 57.0032 633.965 Q56.7167 635.111 56.7167 636.512 Q56.7167 641.477 59.9632 644.151 Q63.1779 646.792 69.2253 646.792 L88.0042 646.792 L88.0042 652.681 L52.3562 652.681 L52.3562 646.792 L57.8944 646.792 Q54.6479 644.946 53.0883 641.986 Q51.4968 639.026 51.4968 634.793 Q51.4968 634.188 51.5923 633.456 Q51.656 632.724 51.8151 631.833 L57.8307 631.801 Z\" fill=\"#000000\" fill-rule=\"evenodd\" fill-opacity=\"1\" /><path clip-path=\"url(#clip8400)\" d=\"M 0 0 M69.7664 603.346 Q63.4007 603.346 59.8996 605.988 Q56.3984 608.598 56.3984 613.341 Q56.3984 618.051 59.8996 620.693 Q63.4007 623.303 69.7664 623.303 Q76.1003 623.303 79.6014 620.693 Q83.1026 618.051 83.1026 613.341 Q83.1026 608.598 79.6014 605.988 Q76.1003 603.346 69.7664 603.346 M83.58 597.49 Q92.683 597.49 97.1071 601.532 Q101.563 605.574 101.563 613.913 Q101.563 617.001 101.086 619.738 Q100.64 622.475 99.6852 625.053 L93.9879 625.053 Q95.3884 622.475 96.0568 619.961 Q96.7252 617.446 96.7252 614.836 Q96.7252 609.075 93.7015 606.211 Q90.7096 603.346 84.6303 603.346 L81.7339 603.346 Q84.885 605.161 86.4446 607.993 Q88.0042 610.826 88.0042 614.773 Q88.0042 621.329 83.0071 625.34 Q78.01 629.35 69.7664 629.35 Q61.491 629.35 56.4939 625.34 Q51.4968 621.329 51.4968 614.773 Q51.4968 610.826 53.0564 607.993 Q54.616 605.161 57.7671 603.346 L52.3562 603.346 L52.3562 597.49 L83.58 597.49 Z\" fill=\"#000000\" fill-rule=\"evenodd\" fill-opacity=\"1\" /><path clip-path=\"url(#clip8400)\" d=\"M 0 0 M91.3143 576.515 Q97.68 578.998 99.6216 581.353 Q101.563 583.708 101.563 587.655 L101.563 592.334 L96.6615 592.334 L96.6615 588.896 Q96.6615 586.477 95.5157 585.14 Q94.3699 583.804 90.1048 582.18 L87.4312 581.13 L52.3562 595.548 L52.3562 589.342 L80.238 578.202 L52.3562 567.062 L52.3562 560.855 L91.3143 576.515 Z\" fill=\"#000000\" fill-rule=\"evenodd\" fill-opacity=\"1\" /><polyline clip-path=\"url(#clip8402)\" style=\"stroke:#009acd; stroke-width:4; stroke-opacity:1; fill:none\" points=\"\n",
       "  1138.82,86.1857 1424.32,680.944 1710.4,1056.34 2007.61,1242.36 2294.06,1326.46 337.588,1384.24 \n",
       "  \n",
       "  \"/>\n",
       "<path clip-path=\"url(#clip8400)\" d=\"\n",
       "M1989.74 251.724 L2280.76 251.724 L2280.76 130.764 L1989.74 130.764  Z\n",
       "  \" fill=\"#ffffff\" fill-rule=\"evenodd\" fill-opacity=\"1\"/>\n",
       "<polyline clip-path=\"url(#clip8400)\" style=\"stroke:#000000; stroke-width:4; stroke-opacity:1; fill:none\" points=\"\n",
       "  1989.74,251.724 2280.76,251.724 2280.76,130.764 1989.74,130.764 1989.74,251.724 \n",
       "  \"/>\n",
       "<polyline clip-path=\"url(#clip8400)\" style=\"stroke:#009acd; stroke-width:4; stroke-opacity:1; fill:none\" points=\"\n",
       "  2013.74,191.244 2157.74,191.244 \n",
       "  \"/>\n",
       "<path clip-path=\"url(#clip8400)\" d=\"M 0 0 M2195.58 210.931 Q2193.77 215.561 2192.06 216.973 Q2190.35 218.385 2187.48 218.385 L2184.08 218.385 L2184.08 214.82 L2186.58 214.82 Q2188.33 214.82 2189.31 213.987 Q2190.28 213.154 2191.46 210.052 L2192.22 208.107 L2181.74 182.598 L2186.25 182.598 L2194.35 202.876 L2202.46 182.598 L2206.97 182.598 L2195.58 210.931 Z\" fill=\"#000000\" fill-rule=\"evenodd\" fill-opacity=\"1\" /><path clip-path=\"url(#clip8400)\" d=\"M 0 0 M2212.85 204.589 L2220.49 204.589 L2220.49 178.223 L2212.18 179.89 L2212.18 175.631 L2220.44 173.964 L2225.12 173.964 L2225.12 204.589 L2232.76 204.589 L2232.76 208.524 L2212.85 208.524 L2212.85 204.589 Z\" fill=\"#000000\" fill-rule=\"evenodd\" fill-opacity=\"1\" /></svg>\n"
      ]
     },
     "execution_count": 6,
     "metadata": {},
     "output_type": "execute_result"
    }
   ],
   "source": [
    "p = plot(F_x, F_mf, color=:deepskyblue3)\n",
    "ylabel!(\"Free energy\")\n",
    "xlabel!(\"Time (sec.)\")\n",
    "p"
   ]
  },
  {
   "cell_type": "code",
   "execution_count": 7,
   "metadata": {},
   "outputs": [
    {
     "data": {
      "image/png": "[encoded data removed]",
      "text/plain": [
       "Figure(PyObject <Figure size 640x480 with 2 Axes>)"
      ]
     },
     "metadata": {},
     "output_type": "display_data"
    },
    {
     "name": "stderr",
     "output_type": "stream",
     "text": [
      "WARNING: using PyPlot.plot in module Main conflicts with an existing identifier.\n"
     ]
    }
   ],
   "source": [
    "F_est = reshape(a_est,(2,2))\n",
    "\n",
    "using PyPlot\n",
    "fig = figure()\n",
    "g, axes = subplots(nrows=2, ncols=1)\n",
    "fs = [F_est, F]\n",
    "titles = [\"(a)\", \"(b)\"]\n",
    "\n",
    "for (i,ax) in enumerate(axes)\n",
    "    img = ax.matshow(fs[i], cmap=\"Blues\", vmin=-2.0, vmax=2.0)\n",
    "    ax.set_xticks([])\n",
    "    ax.set_yticks([])\n",
    "    ax.set_xlabel(titles[i])\n",
    "end"
   ]
  },
  {
   "cell_type": "code",
   "execution_count": 8,
   "metadata": {},
   "outputs": [
    {
     "data": {
      "text/plain": [
       "6.950322167953e-310"
      ]
     },
     "execution_count": 8,
     "metadata": {},
     "output_type": "execute_result"
    }
   ],
   "source": [
    "F_mf[end]"
   ]
  },
  {
   "cell_type": "code",
   "execution_count": 9,
   "metadata": {},
   "outputs": [],
   "source": [
    "writedlm(\"ADVIFreeEnergy.txt\", F_mf)\n",
    "writedlm(\"ADVIFETime.txt\", F_x)"
   ]
  }
 ],
 "metadata": {
  "kernelspec": {
   "display_name": "Julia 1.5.0",
   "language": "julia",
   "name": "julia-1.5"
  },
  "language_info": {
   "file_extension": ".jl",
   "mimetype": "application/julia",
   "name": "julia",
   "version": "1.5.0"
  }
 },
 "nbformat": 4,
 "nbformat_minor": 4
}
